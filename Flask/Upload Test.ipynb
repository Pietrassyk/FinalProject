{
 "cells": [
  {
   "cell_type": "code",
   "execution_count": 37,
   "metadata": {},
   "outputs": [],
   "source": [
    "from datetime import datetime\n",
    "import time"
   ]
  },
  {
   "cell_type": "code",
   "execution_count": 50,
   "metadata": {},
   "outputs": [
    {
     "name": "stdout",
     "output_type": "stream",
     "text": [
      "2019-07-24 17:01:11\n"
     ]
    }
   ],
   "source": [
    "import datetime\n",
    "\n",
    "timestamp = datetime.datetime.now().strftime(\"%Y-%m-%d %H:%M:%S\")\n",
    "print(timestamp)"
   ]
  },
  {
   "cell_type": "code",
   "execution_count": null,
   "metadata": {},
   "outputs": [],
   "source": []
  },
  {
   "cell_type": "code",
   "execution_count": null,
   "metadata": {},
   "outputs": [],
   "source": []
  },
  {
   "cell_type": "code",
   "execution_count": 2,
   "metadata": {},
   "outputs": [],
   "source": [
    "import sys , os"
   ]
  },
  {
   "cell_type": "code",
   "execution_count": 21,
   "metadata": {},
   "outputs": [],
   "source": [
    "parent_folder = os.path.realpath(\"__file__\").rsplit(\"/\",2)[0]"
   ]
  },
  {
   "cell_type": "code",
   "execution_count": 22,
   "metadata": {},
   "outputs": [],
   "source": [
    "sys.path.append(parent_folder)"
   ]
  },
  {
   "cell_type": "code",
   "execution_count": 23,
   "metadata": {},
   "outputs": [],
   "source": [
    "import parent"
   ]
  },
  {
   "cell_type": "code",
   "execution_count": 34,
   "metadata": {},
   "outputs": [
    {
     "data": {
      "text/plain": [
       "256"
      ]
     },
     "execution_count": 34,
     "metadata": {},
     "output_type": "execute_result"
    }
   ],
   "source": [
    "os.system(\"python ../driver.py\")"
   ]
  },
  {
   "cell_type": "code",
   "execution_count": 33,
   "metadata": {},
   "outputs": [
    {
     "name": "stdout",
     "output_type": "stream",
     "text": [
      "\u001b[34mPrivate\u001b[m\u001b[m           \u001b[34m__pycache__\u001b[m\u001b[m       helpers.py        \u001b[34mtemplates\u001b[m\u001b[m\r\n",
      "Upload Test.ipynb flask_webhook.py  log.txt           \u001b[34mtesti\u001b[m\u001b[m\r\n"
     ]
    }
   ],
   "source": [
    "!ls"
   ]
  },
  {
   "cell_type": "code",
   "execution_count": 37,
   "metadata": {},
   "outputs": [
    {
     "ename": "ImportError",
     "evalue": "cannot import name 'allowed_files' from 'flask' (/Users/pietrassyk/anaconda3/lib/python3.7/site-packages/flask/__init__.py)",
     "output_type": "error",
     "traceback": [
      "\u001b[0;31m---------------------------------------------------------------------------\u001b[0m",
      "\u001b[0;31mImportError\u001b[0m                               Traceback (most recent call last)",
      "\u001b[0;32m<ipython-input-37-95f09322b60e>\u001b[0m in \u001b[0;36m<module>\u001b[0;34m\u001b[0m\n\u001b[0;32m----> 1\u001b[0;31m \u001b[0;32mfrom\u001b[0m \u001b[0mflask\u001b[0m \u001b[0;32mimport\u001b[0m \u001b[0mallowed_files\u001b[0m\u001b[0;34m\u001b[0m\u001b[0;34m\u001b[0m\u001b[0m\n\u001b[0m",
      "\u001b[0;31mImportError\u001b[0m: cannot import name 'allowed_files' from 'flask' (/Users/pietrassyk/anaconda3/lib/python3.7/site-packages/flask/__init__.py)"
     ]
    }
   ],
   "source": [
    "from flask import allowed_files"
   ]
  },
  {
   "cell_type": "markdown",
   "metadata": {},
   "source": [
    "import time\n",
    "timestamp = time.time()\n",
    "with open(\"log.txt\",\"a\") as f:\n",
    "    f.write(f\"{timestamp}\\n\")"
   ]
  },
  {
   "cell_type": "code",
   "execution_count": 27,
   "metadata": {},
   "outputs": [
    {
     "name": "stdout",
     "output_type": "stream",
     "text": [
      "1563993005.352971 Upload Test.ipynb flask_webhook.py  \u001b[34mtemplates\u001b[m\u001b[m\r\n",
      "\u001b[34mPrivate\u001b[m\u001b[m           __init__.py       helpers.py\r\n"
     ]
    }
   ],
   "source": [
    "!ls"
   ]
  },
  {
   "cell_type": "code",
   "execution_count": 1,
   "metadata": {},
   "outputs": [],
   "source": [
    "import boto3, botocore\n",
    "from Private.flask_credentials import S3_KEY, S3_SECRET, S3_BUCKET"
   ]
  },
  {
   "cell_type": "code",
   "execution_count": 16,
   "metadata": {},
   "outputs": [],
   "source": [
    "from werkzeug import secure_filename"
   ]
  },
  {
   "cell_type": "code",
   "execution_count": 17,
   "metadata": {},
   "outputs": [
    {
     "name": "stdout",
     "output_type": "stream",
     "text": [
      "Help on function secure_filename in module werkzeug.utils:\n",
      "\n",
      "secure_filename(filename)\n",
      "    Pass it a filename and it will return a secure version of it.  This\n",
      "    filename can then safely be stored on a regular file system and passed\n",
      "    to :func:`os.path.join`.  The filename returned is an ASCII only string\n",
      "    for maximum portability.\n",
      "    \n",
      "    On windows systems the function also makes sure that the file is not\n",
      "    named after one of the special device files.\n",
      "    \n",
      "    >>> secure_filename(\"My cool movie.mov\")\n",
      "    'My_cool_movie.mov'\n",
      "    >>> secure_filename(\"../../../etc/passwd\")\n",
      "    'etc_passwd'\n",
      "    >>> secure_filename(u'i contain cool \\xfcml\\xe4uts.txt')\n",
      "    'i_contain_cool_umlauts.txt'\n",
      "    \n",
      "    The function might return an empty filename.  It's your responsibility\n",
      "    to ensure that the filename is unique and that you generate random\n",
      "    filename if the function returned an empty one.\n",
      "    \n",
      "    .. versionadded:: 0.5\n",
      "    \n",
      "    :param filename: the filename to secure\n",
      "\n"
     ]
    }
   ],
   "source": [
    "help(secure_filename)"
   ]
  },
  {
   "cell_type": "markdown",
   "metadata": {},
   "source": [
    "# Not original"
   ]
  },
  {
   "cell_type": "code",
   "execution_count": 2,
   "metadata": {},
   "outputs": [],
   "source": [
    "#set up missing function parameters\n",
    "bucket_name = S3_BUCKET\n",
    "acl=\"public-read\""
   ]
  },
  {
   "cell_type": "code",
   "execution_count": 8,
   "metadata": {},
   "outputs": [],
   "source": [
    "fr = file.content"
   ]
  },
  {
   "cell_type": "code",
   "execution_count": 3,
   "metadata": {},
   "outputs": [],
   "source": [
    "#provide file object\n",
    "class File:\n",
    "    def __init__(self,path):\n",
    "        self.content = open(path,\"rb\")\n",
    "        self.filename = self.content.name\n",
    "        self.content_type = path.split(\".\")[-1]\n",
    "        "
   ]
  },
  {
   "cell_type": "code",
   "execution_count": 4,
   "metadata": {},
   "outputs": [],
   "source": [
    "#create a file\n",
    "file = File(\"helpers.py\")"
   ]
  },
  {
   "cell_type": "markdown",
   "metadata": {},
   "source": [
    "# Original"
   ]
  },
  {
   "cell_type": "code",
   "execution_count": 5,
   "metadata": {},
   "outputs": [],
   "source": [
    "s3 = boto3.client(\n",
    "   \"s3\",\n",
    "   aws_access_key_id=S3_KEY,\n",
    "   aws_secret_access_key=S3_SECRET\n",
    ")"
   ]
  },
  {
   "cell_type": "code",
   "execution_count": 12,
   "metadata": {},
   "outputs": [],
   "source": [
    "s3.upload_fileobj(\n",
    "    file.content,\n",
    "    bucket_name,\n",
    "    file.filename,\n",
    "    ExtraArgs={\n",
    "        \"ACL\": acl,\n",
    "        \"ContentType\": file.content_type})"
   ]
  },
  {
   "cell_type": "code",
   "execution_count": null,
   "metadata": {},
   "outputs": [],
   "source": []
  }
 ],
 "metadata": {
  "kernelspec": {
   "display_name": "Python 3",
   "language": "python",
   "name": "python3"
  },
  "language_info": {
   "codemirror_mode": {
    "name": "ipython",
    "version": 3
   },
   "file_extension": ".py",
   "mimetype": "text/x-python",
   "name": "python",
   "nbconvert_exporter": "python",
   "pygments_lexer": "ipython3",
   "version": "3.7.3"
  },
  "toc": {
   "base_numbering": 1,
   "nav_menu": {},
   "number_sections": true,
   "sideBar": true,
   "skip_h1_title": false,
   "title_cell": "Table of Contents",
   "title_sidebar": "Contents",
   "toc_cell": false,
   "toc_position": {},
   "toc_section_display": true,
   "toc_window_display": false
  }
 },
 "nbformat": 4,
 "nbformat_minor": 2
}
