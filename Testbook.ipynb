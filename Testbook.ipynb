{
 "cells": [
  {
   "cell_type": "markdown",
   "metadata": {},
   "source": [
    "# AWS SETUP"
   ]
  },
  {
   "cell_type": "code",
   "execution_count": 1,
   "metadata": {},
   "outputs": [],
   "source": [
    "import os\n",
    "import boto3\n",
    "import re\n",
    "import copy\n",
    "import time\n",
    "from time import gmtime, strftime\n",
    "from sagemaker import get_execution_role\n",
    "\n",
    "role = get_execution_role()\n",
    "region = boto3.Session().region_name\n",
    "\n",
    "bucket_name='finaldebatebucket' # Replace with your s3 bucket name\n",
    "prefix = 'sagemaker/FinalProject' # Used as part of the path in the bucket where you store data\n",
    "bucket_path = 'https://s3-{}.amazonaws.com/{}'.format(region,bucket_name) # The URL to access the bucket"
   ]
  },
  {
   "cell_type": "markdown",
   "metadata": {},
   "source": [
    "s3 = boto3.resource('s3')\n",
    "try:\n",
    "    if  region == 'us-east-1':\n",
    "      s3.create_bucket(Bucket=bucket_name)\n",
    "    else: \n",
    "      s3.create_bucket(Bucket=bucket_name, CreateBucketConfiguration={ 'LocationConstraint': region })\n",
    "    print('S3 bucket created successfully')\n",
    "except Exception as e:\n",
    "    print('S3 error: ',e)"
   ]
  },
  {
   "cell_type": "markdown",
   "metadata": {},
   "source": [
    "# Start Notebook"
   ]
  },
  {
   "cell_type": "markdown",
   "metadata": {},
   "source": [
    "## Imports"
   ]
  },
  {
   "cell_type": "code",
   "execution_count": 2,
   "metadata": {},
   "outputs": [],
   "source": [
    "import pandas as pd\n",
    "import numpy as np\n",
    "import matplotlib.pyplot as plt\n",
    "import time\n",
    "import requests\n",
    "\n",
    "import boto3\n",
    "import tpclean.tpclean as tp\n",
    "\n",
    "from os import listdir\n",
    "from __future__ import print_function\n",
    "from datetime import datetime"
   ]
  },
  {
   "cell_type": "markdown",
   "metadata": {},
   "source": [
    "## ETL"
   ]
  },
  {
   "cell_type": "markdown",
   "metadata": {},
   "source": [
    "The goal here is to:\n",
    "1. go through the Folder of soundfiles to, \n",
    "2. get the files trancriped from audio to text\n",
    "3. transform the text to meaningful metadata aswell as the content\n",
    "4. load everything into a database"
   ]
  },
  {
   "cell_type": "markdown",
   "metadata": {},
   "source": [
    "### Extract"
   ]
  },
  {
   "cell_type": "markdown",
   "metadata": {},
   "source": [
    "`bucket_path`must be : 'https://s3-us-east-2.amazonaws.com/finaldebatebucket'"
   ]
  },
  {
   "cell_type": "code",
   "execution_count": 3,
   "metadata": {},
   "outputs": [],
   "source": [
    "#load Bucket Content\n",
    "def find_audios(bucket_name, dtype = \"wav\"):\n",
    "    \"\"\"Get Audiofiles from an s3 bucket. This is meant to run on a Sagemaker instance\n",
    "    Params:\n",
    "    --------\n",
    "    bucket_name : str\n",
    "    dtype : str\n",
    "        fileformat to look for e.g. wav \"\"\"\n",
    "    \n",
    "    #connect to S3\n",
    "    s3 = boto3.resource('s3')\n",
    "    my_bucket = s3.Bucket(bucket_name)  \n",
    "    \n",
    "    s3files=[]\n",
    "    for my_bucket_object in my_bucket.objects.all():\n",
    "        filename = my_bucket_object.key.split(\"/\")[-1]\n",
    "        #check whether object is a wav file\n",
    "        if dtype in filename.split(\".\")[-1]:\n",
    "            s3files.append(filename)\n",
    "    return s3files"
   ]
  },
  {
   "cell_type": "code",
   "execution_count": 4,
   "metadata": {
    "scrolled": true
   },
   "outputs": [
    {
     "data": {
      "text/plain": [
       "['AM_101_affirmativeaction_pro.wav',\n",
       " 'DJ_1_ban-video-games_pro.wav',\n",
       " 'EH_1_ban-video-games_pro.wav']"
      ]
     },
     "execution_count": 4,
     "metadata": {},
     "output_type": "execute_result"
    }
   ],
   "source": [
    "audio_files = find_audios(bucket_name)\n",
    "audio_files"
   ]
  },
  {
   "cell_type": "code",
   "execution_count": 5,
   "metadata": {},
   "outputs": [],
   "source": [
    "#just for testing here uncomment as soon as not needed\n",
    "filename = audio_files[1]"
   ]
  },
  {
   "cell_type": "code",
   "execution_count": 6,
   "metadata": {},
   "outputs": [],
   "source": [
    "#load API \n",
    "sub_path = \"cache-data\"\n",
    "job_uri = f\"{bucket_path}/{sub_path}/{filename}\"\n",
    "\n",
    "def transcribe_wav(job_uri, dtype=\"wav\" , lang = 'en-US' ,enforce = False, **kwargs):\n",
    "    \"\"\"Transcribe a wav file using a AWS trancribe web API call\n",
    "    \n",
    "    Params:\n",
    "    --------\n",
    "    job_uri : str\n",
    "        path to aufiofile in an s3 bucket\n",
    "    dtype : str\n",
    "        file format of the audio file\n",
    "    lang : str\n",
    "        language spoken in the audiofile\n",
    "    enforce : bool\n",
    "        whether or not to enforce doing the transcription job when filename already found in prior joblist\n",
    "    \n",
    "    Returns:\n",
    "    --------\n",
    "    trans_json : Json-Object\n",
    "        return from the API Call\n",
    "    trans_json_uri : str\n",
    "        url to the transcriptionjob json\"\"\"\n",
    "      \n",
    "    #Call API\n",
    "    transcribe = boto3.client('transcribe')\n",
    "    \n",
    "    #create Jobname from Filename\n",
    "    job_name = job_uri.split(\"/\")[-1]\n",
    "    \n",
    "    #Check whether file is already transcribed\n",
    "    jobs = transcribe.list_transcription_jobs()['TranscriptionJobSummaries']\n",
    "    job_names = [job['TranscriptionJobName'] for job in jobs]\n",
    "    \n",
    "    if job_name in job_names:\n",
    "        print(\"File already transcribed\")\n",
    "        go_on = enforce\n",
    "    else:\n",
    "        go_on = True\n",
    "    \n",
    "    #Call for Transcription Job\n",
    "    if go_on:\n",
    "\n",
    "        transcribe.start_transcription_job(\n",
    "            TranscriptionJobName=job_name,\n",
    "            Media={'MediaFileUri': job_uri},\n",
    "            MediaFormat= dtype,\n",
    "            LanguageCode= lang, \n",
    "            **kwargs)\n",
    "    \n",
    "        #print status update\n",
    "        while True:\n",
    "            status = transcribe.get_transcription_job(TranscriptionJobName=job_name)\n",
    "            if status['TranscriptionJob']['TranscriptionJobStatus'] in ['COMPLETED', 'FAILED']:\n",
    "                break\n",
    "            print(\"Not ready yet...\", end=\"\\r\")\n",
    "            time.sleep(5)\n",
    "        print(status)\n",
    "    \n",
    "    #cache outputs\n",
    "    trans_json = transcribe.get_transcription_job(TranscriptionJobName=job_name)\n",
    "    trans_json_uri = trans_json[\"TranscriptionJob\"][\"Transcript\"][\"TranscriptFileUri\"]\n",
    "    \n",
    "    #Insert JSON to DataBase here!\n",
    "    \n",
    "    \n",
    "    \n",
    "    \n",
    "    print(\"Output succesfull\")\n",
    "    return trans_json , trans_json_uri"
   ]
  },
  {
   "cell_type": "code",
   "execution_count": 7,
   "metadata": {},
   "outputs": [
    {
     "name": "stdout",
     "output_type": "stream",
     "text": [
      "File already transcribed\n",
      "Output succesfull\n"
     ]
    }
   ],
   "source": [
    "trans_json_uri = transcribe_wav(job_uri)[1]"
   ]
  },
  {
   "cell_type": "code",
   "execution_count": 8,
   "metadata": {
    "scrolled": true
   },
   "outputs": [],
   "source": [
    "#load json from URL\n",
    "r = requests.get(trans_json_uri)\n",
    "explore = r.json()"
   ]
  },
  {
   "cell_type": "markdown",
   "metadata": {},
   "source": [
    "### Transform"
   ]
  },
  {
   "cell_type": "markdown",
   "metadata": {},
   "source": [
    "Now that the desired files are laoded, they can be transformed to get meaningful metadata and the content of the speech"
   ]
  },
  {
   "cell_type": "code",
   "execution_count": 9,
   "metadata": {},
   "outputs": [],
   "source": [
    "#store full text\n",
    "fulltext = explore[\"results\"][\"transcripts\"][0][\"transcript\"]"
   ]
  },
  {
   "cell_type": "code",
   "execution_count": 10,
   "metadata": {},
   "outputs": [
    {
     "data": {
      "text/html": [
       "<div>\n",
       "<style scoped>\n",
       "    .dataframe tbody tr th:only-of-type {\n",
       "        vertical-align: middle;\n",
       "    }\n",
       "\n",
       "    .dataframe tbody tr th {\n",
       "        vertical-align: top;\n",
       "    }\n",
       "\n",
       "    .dataframe thead th {\n",
       "        text-align: right;\n",
       "    }\n",
       "</style>\n",
       "<table border=\"1\" class=\"dataframe\">\n",
       "  <thead>\n",
       "    <tr style=\"text-align: right;\">\n",
       "      <th></th>\n",
       "      <th>alternatives</th>\n",
       "      <th>end_time</th>\n",
       "      <th>start_time</th>\n",
       "      <th>type</th>\n",
       "    </tr>\n",
       "  </thead>\n",
       "  <tbody>\n",
       "    <tr>\n",
       "      <th>0</th>\n",
       "      <td>[{'confidence': '1.0000', 'content': 'We'}]</td>\n",
       "      <td>1.45</td>\n",
       "      <td>1.14</td>\n",
       "      <td>pronunciation</td>\n",
       "    </tr>\n",
       "    <tr>\n",
       "      <th>1</th>\n",
       "      <td>[{'confidence': '1.0000', 'content': 'should'}]</td>\n",
       "      <td>1.69</td>\n",
       "      <td>1.45</td>\n",
       "      <td>pronunciation</td>\n",
       "    </tr>\n",
       "    <tr>\n",
       "      <th>2</th>\n",
       "      <td>[{'confidence': '0.9717', 'content': 'ban'}]</td>\n",
       "      <td>2.16</td>\n",
       "      <td>1.69</td>\n",
       "      <td>pronunciation</td>\n",
       "    </tr>\n",
       "    <tr>\n",
       "      <th>3</th>\n",
       "      <td>[{'confidence': '1.0000', 'content': 'the'}]</td>\n",
       "      <td>2.32</td>\n",
       "      <td>2.17</td>\n",
       "      <td>pronunciation</td>\n",
       "    </tr>\n",
       "    <tr>\n",
       "      <th>4</th>\n",
       "      <td>[{'confidence': '1.0000', 'content': 'sale'}]</td>\n",
       "      <td>2.77</td>\n",
       "      <td>2.32</td>\n",
       "      <td>pronunciation</td>\n",
       "    </tr>\n",
       "  </tbody>\n",
       "</table>\n",
       "</div>"
      ],
      "text/plain": [
       "                                      alternatives end_time start_time  \\\n",
       "0      [{'confidence': '1.0000', 'content': 'We'}]     1.45       1.14   \n",
       "1  [{'confidence': '1.0000', 'content': 'should'}]     1.69       1.45   \n",
       "2     [{'confidence': '0.9717', 'content': 'ban'}]     2.16       1.69   \n",
       "3     [{'confidence': '1.0000', 'content': 'the'}]     2.32       2.17   \n",
       "4    [{'confidence': '1.0000', 'content': 'sale'}]     2.77       2.32   \n",
       "\n",
       "            type  \n",
       "0  pronunciation  \n",
       "1  pronunciation  \n",
       "2  pronunciation  \n",
       "3  pronunciation  \n",
       "4  pronunciation  "
      ]
     },
     "execution_count": 10,
     "metadata": {},
     "output_type": "execute_result"
    }
   ],
   "source": [
    "df = pd.DataFrame(explore[\"results\"][\"items\"])\n",
    "df.head()"
   ]
  },
  {
   "cell_type": "code",
   "execution_count": 11,
   "metadata": {},
   "outputs": [],
   "source": [
    "#unnest the data using tpclean\n",
    "df = tp.unnest_df_list(df,[\"alternatives\"])\n",
    "df = tp.unnest_df_dict(df,[\"alternatives_1\"])\n",
    "df.rename({\"alternatives_1_confidence\":\"confidence\", \n",
    "           \"alternatives_1_content\": \"content\"}, \n",
    "          axis = \"columns\", inplace = True)"
   ]
  },
  {
   "cell_type": "code",
   "execution_count": 12,
   "metadata": {},
   "outputs": [
    {
     "data": {
      "text/html": [
       "<div>\n",
       "<style scoped>\n",
       "    .dataframe tbody tr th:only-of-type {\n",
       "        vertical-align: middle;\n",
       "    }\n",
       "\n",
       "    .dataframe tbody tr th {\n",
       "        vertical-align: top;\n",
       "    }\n",
       "\n",
       "    .dataframe thead th {\n",
       "        text-align: right;\n",
       "    }\n",
       "</style>\n",
       "<table border=\"1\" class=\"dataframe\">\n",
       "  <thead>\n",
       "    <tr style=\"text-align: right;\">\n",
       "      <th></th>\n",
       "      <th>end_time</th>\n",
       "      <th>start_time</th>\n",
       "      <th>type</th>\n",
       "      <th>confidence</th>\n",
       "      <th>content</th>\n",
       "    </tr>\n",
       "  </thead>\n",
       "  <tbody>\n",
       "    <tr>\n",
       "      <th>0</th>\n",
       "      <td>1.45</td>\n",
       "      <td>1.14</td>\n",
       "      <td>pronunciation</td>\n",
       "      <td>1.0000</td>\n",
       "      <td>We</td>\n",
       "    </tr>\n",
       "    <tr>\n",
       "      <th>1</th>\n",
       "      <td>1.69</td>\n",
       "      <td>1.45</td>\n",
       "      <td>pronunciation</td>\n",
       "      <td>1.0000</td>\n",
       "      <td>should</td>\n",
       "    </tr>\n",
       "    <tr>\n",
       "      <th>2</th>\n",
       "      <td>2.16</td>\n",
       "      <td>1.69</td>\n",
       "      <td>pronunciation</td>\n",
       "      <td>0.9717</td>\n",
       "      <td>ban</td>\n",
       "    </tr>\n",
       "    <tr>\n",
       "      <th>3</th>\n",
       "      <td>2.32</td>\n",
       "      <td>2.17</td>\n",
       "      <td>pronunciation</td>\n",
       "      <td>1.0000</td>\n",
       "      <td>the</td>\n",
       "    </tr>\n",
       "    <tr>\n",
       "      <th>4</th>\n",
       "      <td>2.77</td>\n",
       "      <td>2.32</td>\n",
       "      <td>pronunciation</td>\n",
       "      <td>1.0000</td>\n",
       "      <td>sale</td>\n",
       "    </tr>\n",
       "  </tbody>\n",
       "</table>\n",
       "</div>"
      ],
      "text/plain": [
       "  end_time start_time           type confidence content\n",
       "0     1.45       1.14  pronunciation     1.0000      We\n",
       "1     1.69       1.45  pronunciation     1.0000  should\n",
       "2     2.16       1.69  pronunciation     0.9717     ban\n",
       "3     2.32       2.17  pronunciation     1.0000     the\n",
       "4     2.77       2.32  pronunciation     1.0000    sale"
      ]
     },
     "execution_count": 12,
     "metadata": {},
     "output_type": "execute_result"
    }
   ],
   "source": [
    "df.head()"
   ]
  },
  {
   "cell_type": "code",
   "execution_count": 13,
   "metadata": {},
   "outputs": [
    {
     "name": "stdout",
     "output_type": "stream",
     "text": [
      "<class 'pandas.core.frame.DataFrame'>\n",
      "RangeIndex: 577 entries, 0 to 576\n",
      "Data columns (total 5 columns):\n",
      "end_time      526 non-null object\n",
      "start_time    526 non-null object\n",
      "type          577 non-null object\n",
      "confidence    577 non-null object\n",
      "content       577 non-null object\n",
      "dtypes: object(5)\n",
      "memory usage: 22.6+ KB\n"
     ]
    }
   ],
   "source": [
    "df.info()"
   ]
  },
  {
   "cell_type": "code",
   "execution_count": 14,
   "metadata": {},
   "outputs": [],
   "source": [
    "#convert columns containing numbers into float datatype\n",
    "for col in df.columns:\n",
    "    try:\n",
    "        df[col] = df[col].astype(\"float\")\n",
    "    except:\n",
    "        continue"
   ]
  },
  {
   "cell_type": "code",
   "execution_count": 15,
   "metadata": {},
   "outputs": [],
   "source": [
    "def get_pause(df,start_time,end_time):\n",
    "    \"\"\"Converts the end time of a word and the start time of the next word into the pause between these words\n",
    "    Params:\n",
    "    --------\n",
    "    df : pandas DataFrame\n",
    "        Dataframe containing the timestamps\n",
    "    start_time : str\n",
    "        Columnn name ot the start_time stamps\n",
    "    end_time : str\n",
    "        Columnn name ot the end_time stamps\n",
    "    \n",
    "    Returns:\n",
    "    --------\n",
    "    df : pandas DataFrame\n",
    "        updated Dataframe containing a \"pause_after\" column\n",
    "    \"\"\"\n",
    "    pause_after = []\n",
    "    \n",
    "    for i in range(len(df)-1):\n",
    "        j=1\n",
    "        \n",
    "        #if next item i nan keep looking forward until it isn't\n",
    "        while (np.isnan(df[start_time][i+j])) and (i+j <len(df)-1):\n",
    "            j +=1\n",
    "        pause_after.append(df[start_time][i+j]-df[end_time][i])\n",
    "    \n",
    "    #add zero to the end and push to dataframe\n",
    "    df[\"pause_after\"] = pd.Series(pause_after).append(pd.Series({len(pause_after):0}))\n",
    "    return df"
   ]
  },
  {
   "cell_type": "code",
   "execution_count": 22,
   "metadata": {},
   "outputs": [],
   "source": [
    "#engineer length of word and pauses between words\n",
    "df[\"length\"] = df.end_time-df.start_time\n",
    "get_pause(df,\"start_time\",\"end_time\");\n",
    "\n",
    "#append filename\n",
    "df[\"origin\"] = filename\n",
    "\n",
    "#append default speaker for now\n",
    "df[\"speaker\"] = \"speaker_default\"\n",
    "\n",
    "#append word \n",
    "df.reset_index().rename({\"index\":\"pos_in_conv\"},axis = \"columns\");"
   ]
  },
  {
   "cell_type": "code",
   "execution_count": 17,
   "metadata": {},
   "outputs": [
    {
     "data": {
      "text/html": [
       "<div>\n",
       "<style scoped>\n",
       "    .dataframe tbody tr th:only-of-type {\n",
       "        vertical-align: middle;\n",
       "    }\n",
       "\n",
       "    .dataframe tbody tr th {\n",
       "        vertical-align: top;\n",
       "    }\n",
       "\n",
       "    .dataframe thead th {\n",
       "        text-align: right;\n",
       "    }\n",
       "</style>\n",
       "<table border=\"1\" class=\"dataframe\">\n",
       "  <thead>\n",
       "    <tr style=\"text-align: right;\">\n",
       "      <th></th>\n",
       "      <th>end_time</th>\n",
       "      <th>start_time</th>\n",
       "      <th>type</th>\n",
       "      <th>confidence</th>\n",
       "      <th>content</th>\n",
       "      <th>length</th>\n",
       "      <th>pause_after</th>\n",
       "      <th>origin</th>\n",
       "      <th>speaker</th>\n",
       "    </tr>\n",
       "  </thead>\n",
       "  <tbody>\n",
       "    <tr>\n",
       "      <th>0</th>\n",
       "      <td>1.45</td>\n",
       "      <td>1.14</td>\n",
       "      <td>pronunciation</td>\n",
       "      <td>1.0000</td>\n",
       "      <td>We</td>\n",
       "      <td>0.31</td>\n",
       "      <td>0.00</td>\n",
       "      <td>DJ_1_ban-video-games_pro.wav</td>\n",
       "      <td>speaker_default</td>\n",
       "    </tr>\n",
       "    <tr>\n",
       "      <th>1</th>\n",
       "      <td>1.69</td>\n",
       "      <td>1.45</td>\n",
       "      <td>pronunciation</td>\n",
       "      <td>1.0000</td>\n",
       "      <td>should</td>\n",
       "      <td>0.24</td>\n",
       "      <td>0.00</td>\n",
       "      <td>DJ_1_ban-video-games_pro.wav</td>\n",
       "      <td>speaker_default</td>\n",
       "    </tr>\n",
       "    <tr>\n",
       "      <th>2</th>\n",
       "      <td>2.16</td>\n",
       "      <td>1.69</td>\n",
       "      <td>pronunciation</td>\n",
       "      <td>0.9717</td>\n",
       "      <td>ban</td>\n",
       "      <td>0.47</td>\n",
       "      <td>0.01</td>\n",
       "      <td>DJ_1_ban-video-games_pro.wav</td>\n",
       "      <td>speaker_default</td>\n",
       "    </tr>\n",
       "    <tr>\n",
       "      <th>3</th>\n",
       "      <td>2.32</td>\n",
       "      <td>2.17</td>\n",
       "      <td>pronunciation</td>\n",
       "      <td>1.0000</td>\n",
       "      <td>the</td>\n",
       "      <td>0.15</td>\n",
       "      <td>0.00</td>\n",
       "      <td>DJ_1_ban-video-games_pro.wav</td>\n",
       "      <td>speaker_default</td>\n",
       "    </tr>\n",
       "    <tr>\n",
       "      <th>4</th>\n",
       "      <td>2.77</td>\n",
       "      <td>2.32</td>\n",
       "      <td>pronunciation</td>\n",
       "      <td>1.0000</td>\n",
       "      <td>sale</td>\n",
       "      <td>0.45</td>\n",
       "      <td>0.00</td>\n",
       "      <td>DJ_1_ban-video-games_pro.wav</td>\n",
       "      <td>speaker_default</td>\n",
       "    </tr>\n",
       "  </tbody>\n",
       "</table>\n",
       "</div>"
      ],
      "text/plain": [
       "   end_time  start_time           type  confidence content  length  \\\n",
       "0      1.45        1.14  pronunciation      1.0000      We    0.31   \n",
       "1      1.69        1.45  pronunciation      1.0000  should    0.24   \n",
       "2      2.16        1.69  pronunciation      0.9717     ban    0.47   \n",
       "3      2.32        2.17  pronunciation      1.0000     the    0.15   \n",
       "4      2.77        2.32  pronunciation      1.0000    sale    0.45   \n",
       "\n",
       "   pause_after                        origin          speaker  \n",
       "0         0.00  DJ_1_ban-video-games_pro.wav  speaker_default  \n",
       "1         0.00  DJ_1_ban-video-games_pro.wav  speaker_default  \n",
       "2         0.01  DJ_1_ban-video-games_pro.wav  speaker_default  \n",
       "3         0.00  DJ_1_ban-video-games_pro.wav  speaker_default  \n",
       "4         0.00  DJ_1_ban-video-games_pro.wav  speaker_default  "
      ]
     },
     "execution_count": 17,
     "metadata": {},
     "output_type": "execute_result"
    }
   ],
   "source": [
    "df.head()"
   ]
  },
  {
   "cell_type": "code",
   "execution_count": 18,
   "metadata": {},
   "outputs": [],
   "source": [
    "import mysql.connector"
   ]
  },
  {
   "cell_type": "code",
   "execution_count": 19,
   "metadata": {},
   "outputs": [
    {
     "name": "stdout",
     "output_type": "stream",
     "text": [
      "Cache_Data  Private  README.md\tTestbook.ipynb\r\n"
     ]
    }
   ],
   "source": [
    "!ls"
   ]
  },
  {
   "cell_type": "code",
   "execution_count": 20,
   "metadata": {},
   "outputs": [],
   "source": [
    "from Private.private import user\n",
    "from Private.private import password"
   ]
  },
  {
   "cell_type": "code",
   "execution_count": 24,
   "metadata": {},
   "outputs": [
    {
     "ename": "InterfaceError",
     "evalue": "2003: Can't connect to MySQL server on 'debaterdb.c7oenlqovcjd.us-east-2.rds.amazonaws.com:3306' (110 Connection timed out)",
     "output_type": "error",
     "traceback": [
      "\u001b[0;31m---------------------------------------------------------------------------\u001b[0m",
      "\u001b[0;31mTimeoutError\u001b[0m                              Traceback (most recent call last)",
      "\u001b[0;32m~/anaconda3/envs/mxnet_p36/lib/python3.6/site-packages/mysql/connector/network.py\u001b[0m in \u001b[0;36mopen_connection\u001b[0;34m(self)\u001b[0m\n\u001b[1;32m    508\u001b[0m             \u001b[0mself\u001b[0m\u001b[0;34m.\u001b[0m\u001b[0msock\u001b[0m\u001b[0;34m.\u001b[0m\u001b[0msettimeout\u001b[0m\u001b[0;34m(\u001b[0m\u001b[0mself\u001b[0m\u001b[0;34m.\u001b[0m\u001b[0m_connection_timeout\u001b[0m\u001b[0;34m)\u001b[0m\u001b[0;34m\u001b[0m\u001b[0m\n\u001b[0;32m--> 509\u001b[0;31m             \u001b[0mself\u001b[0m\u001b[0;34m.\u001b[0m\u001b[0msock\u001b[0m\u001b[0;34m.\u001b[0m\u001b[0mconnect\u001b[0m\u001b[0;34m(\u001b[0m\u001b[0msockaddr\u001b[0m\u001b[0;34m)\u001b[0m\u001b[0;34m\u001b[0m\u001b[0m\n\u001b[0m\u001b[1;32m    510\u001b[0m         \u001b[0;32mexcept\u001b[0m \u001b[0mIOError\u001b[0m \u001b[0;32mas\u001b[0m \u001b[0merr\u001b[0m\u001b[0;34m:\u001b[0m\u001b[0;34m\u001b[0m\u001b[0m\n",
      "\u001b[0;31mTimeoutError\u001b[0m: [Errno 110] Connection timed out",
      "\nDuring handling of the above exception, another exception occurred:\n",
      "\u001b[0;31mInterfaceError\u001b[0m                            Traceback (most recent call last)",
      "\u001b[0;32m<ipython-input-24-3052e7585aa0>\u001b[0m in \u001b[0;36m<module>\u001b[0;34m()\u001b[0m\n\u001b[1;32m      2\u001b[0m     \u001b[0mhost\u001b[0m\u001b[0;34m=\u001b[0m\u001b[0;34m'debaterdb.c7oenlqovcjd.us-east-2.rds.amazonaws.com'\u001b[0m\u001b[0;34m,\u001b[0m\u001b[0;34m\u001b[0m\u001b[0m\n\u001b[1;32m      3\u001b[0m     \u001b[0muser\u001b[0m\u001b[0;34m=\u001b[0m\u001b[0;34m\"piet\"\u001b[0m\u001b[0;34m,\u001b[0m\u001b[0;34m\u001b[0m\u001b[0m\n\u001b[0;32m----> 4\u001b[0;31m     password=\"philipsWe200\")\n\u001b[0m",
      "\u001b[0;32m~/anaconda3/envs/mxnet_p36/lib/python3.6/site-packages/mysql/connector/__init__.py\u001b[0m in \u001b[0;36mconnect\u001b[0;34m(*args, **kwargs)\u001b[0m\n\u001b[1;32m    177\u001b[0m         \u001b[0;32mreturn\u001b[0m \u001b[0mCMySQLConnection\u001b[0m\u001b[0;34m(\u001b[0m\u001b[0;34m*\u001b[0m\u001b[0margs\u001b[0m\u001b[0;34m,\u001b[0m \u001b[0;34m**\u001b[0m\u001b[0mkwargs\u001b[0m\u001b[0;34m)\u001b[0m\u001b[0;34m\u001b[0m\u001b[0m\n\u001b[1;32m    178\u001b[0m     \u001b[0;32melse\u001b[0m\u001b[0;34m:\u001b[0m\u001b[0;34m\u001b[0m\u001b[0m\n\u001b[0;32m--> 179\u001b[0;31m         \u001b[0;32mreturn\u001b[0m \u001b[0mMySQLConnection\u001b[0m\u001b[0;34m(\u001b[0m\u001b[0;34m*\u001b[0m\u001b[0margs\u001b[0m\u001b[0;34m,\u001b[0m \u001b[0;34m**\u001b[0m\u001b[0mkwargs\u001b[0m\u001b[0;34m)\u001b[0m\u001b[0;34m\u001b[0m\u001b[0m\n\u001b[0m\u001b[1;32m    180\u001b[0m \u001b[0mConnect\u001b[0m \u001b[0;34m=\u001b[0m \u001b[0mconnect\u001b[0m  \u001b[0;31m# pylint: disable=C0103\u001b[0m\u001b[0;34m\u001b[0m\u001b[0m\n\u001b[1;32m    181\u001b[0m \u001b[0;34m\u001b[0m\u001b[0m\n",
      "\u001b[0;32m~/anaconda3/envs/mxnet_p36/lib/python3.6/site-packages/mysql/connector/connection.py\u001b[0m in \u001b[0;36m__init__\u001b[0;34m(self, *args, **kwargs)\u001b[0m\n\u001b[1;32m     93\u001b[0m \u001b[0;34m\u001b[0m\u001b[0m\n\u001b[1;32m     94\u001b[0m         \u001b[0;32mif\u001b[0m \u001b[0mlen\u001b[0m\u001b[0;34m(\u001b[0m\u001b[0mkwargs\u001b[0m\u001b[0;34m)\u001b[0m \u001b[0;34m>\u001b[0m \u001b[0;36m0\u001b[0m\u001b[0;34m:\u001b[0m\u001b[0;34m\u001b[0m\u001b[0m\n\u001b[0;32m---> 95\u001b[0;31m             \u001b[0mself\u001b[0m\u001b[0;34m.\u001b[0m\u001b[0mconnect\u001b[0m\u001b[0;34m(\u001b[0m\u001b[0;34m**\u001b[0m\u001b[0mkwargs\u001b[0m\u001b[0;34m)\u001b[0m\u001b[0;34m\u001b[0m\u001b[0m\n\u001b[0m\u001b[1;32m     96\u001b[0m \u001b[0;34m\u001b[0m\u001b[0m\n\u001b[1;32m     97\u001b[0m     \u001b[0;32mdef\u001b[0m \u001b[0m_do_handshake\u001b[0m\u001b[0;34m(\u001b[0m\u001b[0mself\u001b[0m\u001b[0;34m)\u001b[0m\u001b[0;34m:\u001b[0m\u001b[0;34m\u001b[0m\u001b[0m\n",
      "\u001b[0;32m~/anaconda3/envs/mxnet_p36/lib/python3.6/site-packages/mysql/connector/abstracts.py\u001b[0m in \u001b[0;36mconnect\u001b[0;34m(self, **kwargs)\u001b[0m\n\u001b[1;32m    714\u001b[0m \u001b[0;34m\u001b[0m\u001b[0m\n\u001b[1;32m    715\u001b[0m         \u001b[0mself\u001b[0m\u001b[0;34m.\u001b[0m\u001b[0mdisconnect\u001b[0m\u001b[0;34m(\u001b[0m\u001b[0;34m)\u001b[0m\u001b[0;34m\u001b[0m\u001b[0m\n\u001b[0;32m--> 716\u001b[0;31m         \u001b[0mself\u001b[0m\u001b[0;34m.\u001b[0m\u001b[0m_open_connection\u001b[0m\u001b[0;34m(\u001b[0m\u001b[0;34m)\u001b[0m\u001b[0;34m\u001b[0m\u001b[0m\n\u001b[0m\u001b[1;32m    717\u001b[0m         \u001b[0mself\u001b[0m\u001b[0;34m.\u001b[0m\u001b[0m_post_connection\u001b[0m\u001b[0;34m(\u001b[0m\u001b[0;34m)\u001b[0m\u001b[0;34m\u001b[0m\u001b[0m\n\u001b[1;32m    718\u001b[0m \u001b[0;34m\u001b[0m\u001b[0m\n",
      "\u001b[0;32m~/anaconda3/envs/mxnet_p36/lib/python3.6/site-packages/mysql/connector/connection.py\u001b[0m in \u001b[0;36m_open_connection\u001b[0;34m(self)\u001b[0m\n\u001b[1;32m    204\u001b[0m         \u001b[0mself\u001b[0m\u001b[0;34m.\u001b[0m\u001b[0m_protocol\u001b[0m \u001b[0;34m=\u001b[0m \u001b[0mMySQLProtocol\u001b[0m\u001b[0;34m(\u001b[0m\u001b[0;34m)\u001b[0m\u001b[0;34m\u001b[0m\u001b[0m\n\u001b[1;32m    205\u001b[0m         \u001b[0mself\u001b[0m\u001b[0;34m.\u001b[0m\u001b[0m_socket\u001b[0m \u001b[0;34m=\u001b[0m \u001b[0mself\u001b[0m\u001b[0;34m.\u001b[0m\u001b[0m_get_connection\u001b[0m\u001b[0;34m(\u001b[0m\u001b[0;34m)\u001b[0m\u001b[0;34m\u001b[0m\u001b[0m\n\u001b[0;32m--> 206\u001b[0;31m         \u001b[0mself\u001b[0m\u001b[0;34m.\u001b[0m\u001b[0m_socket\u001b[0m\u001b[0;34m.\u001b[0m\u001b[0mopen_connection\u001b[0m\u001b[0;34m(\u001b[0m\u001b[0;34m)\u001b[0m\u001b[0;34m\u001b[0m\u001b[0m\n\u001b[0m\u001b[1;32m    207\u001b[0m         \u001b[0mself\u001b[0m\u001b[0;34m.\u001b[0m\u001b[0m_do_handshake\u001b[0m\u001b[0;34m(\u001b[0m\u001b[0;34m)\u001b[0m\u001b[0;34m\u001b[0m\u001b[0m\n\u001b[1;32m    208\u001b[0m         self._do_auth(self._user, self._password,\n",
      "\u001b[0;32m~/anaconda3/envs/mxnet_p36/lib/python3.6/site-packages/mysql/connector/network.py\u001b[0m in \u001b[0;36mopen_connection\u001b[0;34m(self)\u001b[0m\n\u001b[1;32m    510\u001b[0m         \u001b[0;32mexcept\u001b[0m \u001b[0mIOError\u001b[0m \u001b[0;32mas\u001b[0m \u001b[0merr\u001b[0m\u001b[0;34m:\u001b[0m\u001b[0;34m\u001b[0m\u001b[0m\n\u001b[1;32m    511\u001b[0m             raise errors.InterfaceError(\n\u001b[0;32m--> 512\u001b[0;31m                 errno=2003, values=(self.get_address(), _strioerror(err)))\n\u001b[0m\u001b[1;32m    513\u001b[0m         \u001b[0;32mexcept\u001b[0m \u001b[0mException\u001b[0m \u001b[0;32mas\u001b[0m \u001b[0merr\u001b[0m\u001b[0;34m:\u001b[0m\u001b[0;34m\u001b[0m\u001b[0m\n\u001b[1;32m    514\u001b[0m             \u001b[0;32mraise\u001b[0m \u001b[0merrors\u001b[0m\u001b[0;34m.\u001b[0m\u001b[0mOperationalError\u001b[0m\u001b[0;34m(\u001b[0m\u001b[0mstr\u001b[0m\u001b[0;34m(\u001b[0m\u001b[0merr\u001b[0m\u001b[0;34m)\u001b[0m\u001b[0;34m)\u001b[0m\u001b[0;34m\u001b[0m\u001b[0m\n",
      "\u001b[0;31mInterfaceError\u001b[0m: 2003: Can't connect to MySQL server on 'debaterdb.c7oenlqovcjd.us-east-2.rds.amazonaws.com:3306' (110 Connection timed out)"
     ]
    }
   ],
   "source": [
    "conn = mysql.connector.Connect(\n",
    "    host='debaterdb.c7oenlqovcjd.us-east-2.rds.amazonaws.com',\n",
    "    user=\"piet\",\n",
    "    password=\"philipsWe200\")"
   ]
  },
  {
   "cell_type": "code",
   "execution_count": null,
   "metadata": {},
   "outputs": [],
   "source": []
  }
 ],
 "metadata": {
  "kernelspec": {
   "display_name": "conda_mxnet_p36",
   "language": "python",
   "name": "conda_mxnet_p36"
  },
  "language_info": {
   "codemirror_mode": {
    "name": "ipython",
    "version": 3
   },
   "file_extension": ".py",
   "mimetype": "text/x-python",
   "name": "python",
   "nbconvert_exporter": "python",
   "pygments_lexer": "ipython3",
   "version": "3.6.5"
  }
 },
 "nbformat": 4,
 "nbformat_minor": 2
}
