{
 "cells": [
  {
   "cell_type": "code",
   "execution_count": 2,
   "metadata": {},
   "outputs": [
    {
     "name": "stdout",
     "output_type": "stream",
     "text": [
      "========SETUP========\n",
      "Connecting to mysql\n",
      "successfully imported module\n",
      "Connection to mysql successfull. with curser MySQLCursor: (Nothing executed yet)\n"
     ]
    }
   ],
   "source": [
    "#IMPORTS\n",
    "########\n",
    "import pandas as pd\n",
    "import numpy as np\n",
    "import mysql.connector\n",
    "import tpclean.tpclean as tp\n",
    "\n",
    "#custom imports\n",
    "from Scripts.config import role, bucket_name, prefix, bucket_path, sub_path\n",
    "from Scripts.nlp_functions import generate_wordcloud , get_summary\n",
    "\n",
    "#establish connection\n",
    "from Scripts.config import host, db\n",
    "from Private.private import user , password\n",
    "\n",
    "#NLTK\n",
    "from nltk import FreqDist\n",
    "from nltk.corpus import stopwords\n",
    "from nltk.stem.wordnet import WordNetLemmatizer\n",
    "\n",
    "#Imports for Bigrams\n",
    "from nltk.collocations import BigramCollocationFinder\n",
    "from nltk.metrics import BigramAssocMeasures\n",
    "from Scripts.nlp_functions import bigram_to_single_word\n",
    "from nltk.sentiment.vader import SentimentIntensityAnalyzer\n",
    "\n",
    "#API Imports\n",
    "from Private.private import aylien_app_id,aylien_API_KEY\n",
    "\n",
    "print(\"========SETUP========\")\n",
    "#load credentials\n",
    "conn_kwargs = {\"host\":host, \n",
    "               \"user\":user, \n",
    "               \"password\":password}\n",
    "conn = tp.sql_connect(db,db_type=\"mysql\",**conn_kwargs)\n",
    "#conn = mysql.connector.Connect(database = db, **conn_kwargs)\n",
    "c = conn.cursor()"
   ]
  },
  {
   "cell_type": "code",
   "execution_count": 3,
   "metadata": {},
   "outputs": [],
   "source": [
    "class File:\n",
    "    def __init__(self,name):\n",
    "        self.filename = name"
   ]
  },
  {
   "cell_type": "code",
   "execution_count": 4,
   "metadata": {},
   "outputs": [],
   "source": [
    "file = File(\"YB_1_ban-video-games_pro.wav\")"
   ]
  },
  {
   "cell_type": "code",
   "execution_count": 5,
   "metadata": {},
   "outputs": [],
   "source": [
    "c.execute(f\"\"\"\tSELECT full_text , bigram_cloud_url , audio_path \n",
    "\t\t\t\t\t\tFROM conversations\n",
    "\t\t\t\t\t\tWHERE filename = '{file.filename}'\"\"\")\n",
    "output = c.fetchall()"
   ]
  },
  {
   "cell_type": "code",
   "execution_count": 6,
   "metadata": {},
   "outputs": [],
   "source": [
    "transcription , image , audio_file = output[0]"
   ]
  },
  {
   "cell_type": "code",
   "execution_count": 7,
   "metadata": {},
   "outputs": [
    {
     "data": {
      "text/plain": [
       "\"when a 10 year old child plays without any supervision in a game where he needs to run down old people and beat women up in order to score points. There is something seriously wrong and even dangerous about this. I'm going to have two points. Is prime minister first. What things are we allowed to ban in general? And secondly, the dangers, the dangerous effects of violent video games, specifically first point. So allegedly we're talking about a private product that doesn't directly harm anyone. Why are we justified in banning it? Thing is, as soon as we have good reason to believe that a certain product holds a dangerous effect for society, we are very much legitimate in either limiting it, as we do with alcohol, where we don't allow the sale of alcohol to certain age groups or in certain places, or in certain hours were even banning it all together like we do with drugs. It is not only our responsibility as a government to retroactively punish someone after doing something wrong, but it is also obviously a responsibility to protect our society and to try and do our best to prevent bad things for happening to begin with. Therefore, we have a responsibility off trying, trying to bend as much things that we think might have a detrimental effect. Offices on society. We do this all the time. There is nothing new about this moving on to the second point specifically about the dangerous effects of violent video games. So, firstly, let's let's analyze the target audience these gains are aimed at. Obviously, we're talking about young children. Moreover, the average age of kids playing this game keeps getting lower and lower. When five year old children watched their brothers playing these games, they want to play them to, um, Now what we need to understand is that everyone has violent impulses or violent urges. All of us do. This is exactly the reason violent video games thrill us so much, and they're so successful. Society teaches us when we grow up to suppress these urges by giving sanctions and violent behavior and rewards for kind behavior. In thes games, the incentives are completely completely reversed. From what we're trying to teach our children, you're getting rewarded for violent behavior and you're getting sanctioned for kind of behavior. Thing is, as I've said in the beginning. Children are playing this and they're completely unsupervised because their parents are buying these games in order for them to be a substitute for a baby sitter. When the children are playing these games, the parents can go off to work or go off, do whatever they want to do, and they think that their children are perfectly safe. But in the meanwhile, their children are learning about the world, and the incentive that they're getting are completely reversed from what we're actually trying to teach them, and then from the person that we want them to become, Um now combined that with the fact that the children are sitting for hours and hours in teaching this and with the fact that these games are getting more and more advanced and making you feel like you're actually in the game yourself, we have to do a great graphics in the game. We have to they first person perspectives where you feel that you're actually in the game, and the last point to add there is that the violence is a race to the bottom of these games. It keeps getting more graphic and more and more violent because the game's needs to continue on selling that, and the companies that make these games need to make them more and more thrilling. But the threshold for what's considered thrilling among young children keeps getting higher and higher, because if everyone can beat up other people and now we need to start beating up children, maybe we're doing Maura and more obscene things in order for this to be considered thrilling. So we have a race to the bottom of violence. Combine all of the things that we've just analyzed and what you get. A ZA result is in the worst case scenario in my lead to people that are actually violent. It might lead to young children that are expressing violent behavior that they learned in these video games in the school yard. And it's going to be increasingly harder to teach them to change their ways when the incentive that they're learning in these Games are completely reverse. This is already enough of a reason to ban these games. But even if we look at not the worst case scenario, but the more likely scenarios, we're getting more and more children with a bad temper, it will resort to anger to resolve their problems. These video games have a counter influence on the education that the parents give their children or that the state wants to provide for these children. So because we're perfectly within our rights to ban something when we consider it to have a bad effect on society and because we have seen that there is plenty of reason to believe that these video games indeed hold a dangerous effect for society, we beg you to propose.\""
      ]
     },
     "execution_count": 7,
     "metadata": {},
     "output_type": "execute_result"
    }
   ],
   "source": [
    "transcription"
   ]
  },
  {
   "cell_type": "code",
   "execution_count": null,
   "metadata": {},
   "outputs": [],
   "source": []
  },
  {
   "cell_type": "code",
   "execution_count": 8,
   "metadata": {},
   "outputs": [],
   "source": [
    "text = \"\"\"we need to abolish the monarchy before we begin. We need to clarify something because there are many different mothers and types of monarchies in the world, starting from models where the monarch is the fact of ruler with absolute authority on all the political decisions being made like in Saudi Arabia are cutter two models where the monarch is more of a diplomatic symbolic figure with hardly any authority when it comes to policy, like in Great Britain for the purposes off this debate, all of these models, we will argue, need to give way in favor off a democratic republic. Of course, the more authorities that the morning calls, the bigger our problem becomes will have two points in the debate. First, we're going to explain the rationale of why we had monarchs to begin with and why this rationale is no longer valid Today and the second point in the second point, we will discuss the harms of a monarchy on under all models. So first point, it used to be that monarchs all had absolute authorities, and the legitimacy for the rule was that they managed to persuade the people that they had a divine right to rule. The royal families were nearly godlike, and this is why the title passes on is Hair Editori and passes on from father to child. Um, now the rationale behind it, as put forth by political philosopher Thomas hopes, was that we needed someone that one ruler above everyone else in order for there to be order in the street. Otherwise we would have anarchy if no one was there to give out rules and enforce them and punish someone. If he harmed me, then everyone would do as he pleases. And this is bad for everyone. Therefore, it's best to just sacrifice some of our liberties to a single ruler that will create order in the streets. But as time went by and the more the citizens became aware of their own rights and started demanding things from their kings, authorities of the of the Monarchs dwindle down and brought us to the development off democratic republics. And now there are plenty of examples of states that have no king. But there is still not in anarchy in the streets, and all that is needed in order for that to happen is a functioning government parliaments that makes laws and the courts to to enforce them. This thus the old logic and rationale behind having a monarch is no longer valid today. The new rational given sometimes, especially in Great Britain, is that we're talking about an institution that is ingrained in the tradition of the people and in their culture and history, and all of that is very true. But nostalgia and romanticism can only get you so far. This is exactly what museums air for. We're not saying that we should just forget all about our history. But just like Viking, culture is a very important part of the Nordic countries history. This does not mean that they should go out and ravage the seas. Today. We should put that behind if we don't have a stronger logic behind that. Now, the monarchy comes at a very high price and we need to consider whether it is worth it just in favor off nostalgia. This brings me to my second point where I will discuss the harms of the monarchy. Along the years, there have been good kings and there have been bad kings. But the biggest problem is that the people have no control over what their king does, except maybe for violent revolutions when they try to remove the king. And this is, of course, something that we would like to prevent in the future. Now, because the title passes on through heritage, since the King needn't worry about his seat and can pretty much do whatever he pleases, even if it comes at the expense off his citizens in absolute monarchies models. This is true to this very day. On top of that, having grown up in the palace his entire life. Even if the king wishes to do well most for the times, he is not fully aware and isn't really connected to the average citizens that he rules over and doesn't know what they need. Um, now, this is the first problem that democracy has come to fix even elected governments. Of course, there are good governments in bad governments. But the head of state always knows that if he's not doing a good job and he's not pleasing its people, then he will be removed from office, and this is the biggest check and balance on the power off the government. That's important. But even in constitutional monarchies, where the King is not a political leader like in three u. K. There still is a very high price to pay for monarchy. Firstly, money, it costs a lot of money to maintain Buckingham Palace or the lavish lifestyles of the royal family. Of course, there's also security costs and costs off expeditions abroad and all of these things. Now this all comes from the taxpayers payroll, and this is the taxpayer that did not elect this monarch. To begin with. This is not legitimate, more over. There is something wrong about still having a class citizens like royal families. This fixates the class system of old age, and we think that all of these all of these reasons are more than enough to abolish all models of monarchies.\"\"\".split(\" \")"
   ]
  },
  {
   "cell_type": "code",
   "execution_count": 9,
   "metadata": {},
   "outputs": [],
   "source": [
    "file = \"testi\""
   ]
  },
  {
   "cell_type": "code",
   "execution_count": 10,
   "metadata": {},
   "outputs": [],
   "source": [
    "## CREATE BIGRAMS\n",
    "finder = BigramCollocationFinder.from_words(text)\n",
    "finder.nbest(BigramAssocMeasures.likelihood_ratio, 10)\n",
    "bigrams_fd = finder.ngram_fd\n",
    "\n",
    "#visualize in a wordcloud\n",
    "testfd = bigram_to_single_word(bigrams_fd)"
   ]
  },
  {
   "cell_type": "code",
   "execution_count": 11,
   "metadata": {},
   "outputs": [
    {
     "name": "stdout",
     "output_type": "stream",
     "text": [
      "Generating wordcloud\n"
     ]
    },
    {
     "data": {
      "image/png": "[encoded data removed]",
      "text/plain": [
       "<Figure size 1008x720 with 1 Axes>"
      ]
     },
     "metadata": {
      "needs_background": "light"
     },
     "output_type": "display_data"
    }
   ],
   "source": [
    "wordcloud_url = generate_wordcloud(testfd, file)\n",
    "c.execute(f\"\"\"UPDATE conversations\n",
    "                 SET bigram_cloud_url = \"{wordcloud_url}\"\n",
    "                 WHERE filename = \"{file}\"\n",
    "                 \"\"\")\n"
   ]
  },
  {
   "cell_type": "code",
   "execution_count": 12,
   "metadata": {},
   "outputs": [],
   "source": [
    "conn.close()"
   ]
  },
  {
   "cell_type": "code",
   "execution_count": 13,
   "metadata": {},
   "outputs": [],
   "source": [
    "import wordcloud"
   ]
  },
  {
   "cell_type": "code",
   "execution_count": 14,
   "metadata": {},
   "outputs": [
    {
     "name": "stdout",
     "output_type": "stream",
     "text": [
      "Help on WordCloud in module wordcloud.wordcloud object:\n",
      "\n",
      "class WordCloud(builtins.object)\n",
      " |  WordCloud(font_path=None, width=400, height=200, margin=2, ranks_only=None, prefer_horizontal=0.9, mask=None, scale=1, color_func=None, max_words=200, min_font_size=4, stopwords=None, random_state=None, background_color='black', max_font_size=None, font_step=1, mode='RGB', relative_scaling='auto', regexp=None, collocations=True, colormap=None, normalize_plurals=True, contour_width=0, contour_color='black', repeat=False)\n",
      " |  \n",
      " |  Word cloud object for generating and drawing.\n",
      " |  \n",
      " |  Parameters\n",
      " |  ----------\n",
      " |  font_path : string\n",
      " |      Font path to the font that will be used (OTF or TTF).\n",
      " |      Defaults to DroidSansMono path on a Linux machine. If you are on\n",
      " |      another OS or don't have this font, you need to adjust this path.\n",
      " |  \n",
      " |  width : int (default=400)\n",
      " |      Width of the canvas.\n",
      " |  \n",
      " |  height : int (default=200)\n",
      " |      Height of the canvas.\n",
      " |  \n",
      " |  prefer_horizontal : float (default=0.90)\n",
      " |      The ratio of times to try horizontal fitting as opposed to vertical.\n",
      " |      If prefer_horizontal < 1, the algorithm will try rotating the word\n",
      " |      if it doesn't fit. (There is currently no built-in way to get only\n",
      " |      vertical words.)\n",
      " |  \n",
      " |  mask : nd-array or None (default=None)\n",
      " |      If not None, gives a binary mask on where to draw words. If mask is not\n",
      " |      None, width and height will be ignored and the shape of mask will be\n",
      " |      used instead. All white (#FF or #FFFFFF) entries will be considerd\n",
      " |      \"masked out\" while other entries will be free to draw on. [This\n",
      " |      changed in the most recent version!]\n",
      " |  \n",
      " |  contour_width: float (default=0)\n",
      " |      If mask is not None and contour_width > 0, draw the mask contour.\n",
      " |  \n",
      " |  contour_color: color value (default=\"black\")\n",
      " |      Mask contour color.\n",
      " |  \n",
      " |  scale : float (default=1)\n",
      " |      Scaling between computation and drawing. For large word-cloud images,\n",
      " |      using scale instead of larger canvas size is significantly faster, but\n",
      " |      might lead to a coarser fit for the words.\n",
      " |  \n",
      " |  min_font_size : int (default=4)\n",
      " |      Smallest font size to use. Will stop when there is no more room in this\n",
      " |      size.\n",
      " |  \n",
      " |  font_step : int (default=1)\n",
      " |      Step size for the font. font_step > 1 might speed up computation but\n",
      " |      give a worse fit.\n",
      " |  \n",
      " |  max_words : number (default=200)\n",
      " |      The maximum number of words.\n",
      " |  \n",
      " |  stopwords : set of strings or None\n",
      " |      The words that will be eliminated. If None, the build-in STOPWORDS\n",
      " |      list will be used. Ignored if using generate_from_frequencies.\n",
      " |  \n",
      " |  background_color : color value (default=\"black\")\n",
      " |      Background color for the word cloud image.\n",
      " |  \n",
      " |  max_font_size : int or None (default=None)\n",
      " |      Maximum font size for the largest word. If None, height of the image is\n",
      " |      used.\n",
      " |  \n",
      " |  mode : string (default=\"RGB\")\n",
      " |      Transparent background will be generated when mode is \"RGBA\" and\n",
      " |      background_color is None.\n",
      " |  \n",
      " |  relative_scaling : float (default='auto')\n",
      " |      Importance of relative word frequencies for font-size.  With\n",
      " |      relative_scaling=0, only word-ranks are considered.  With\n",
      " |      relative_scaling=1, a word that is twice as frequent will have twice\n",
      " |      the size.  If you want to consider the word frequencies and not only\n",
      " |      their rank, relative_scaling around .5 often looks good.\n",
      " |      If 'auto' it will be set to 0.5 unless repeat is true, in which\n",
      " |      case it will be set to 0.\n",
      " |  \n",
      " |      .. versionchanged: 2.0\n",
      " |          Default is now 'auto'.\n",
      " |  \n",
      " |  color_func : callable, default=None\n",
      " |      Callable with parameters word, font_size, position, orientation,\n",
      " |      font_path, random_state that returns a PIL color for each word.\n",
      " |      Overwrites \"colormap\".\n",
      " |      See colormap for specifying a matplotlib colormap instead.\n",
      " |      To create a word cloud with a single color, use\n",
      " |      ``color_func=lambda *args, **kwargs: \"white\"``.\n",
      " |      The single color can also be specified using RGB code. For example\n",
      " |      ``color_func=lambda *args, **kwargs: (255,0,0)`` sets color to red.\n",
      " |  \n",
      " |  regexp : string or None (optional)\n",
      " |      Regular expression to split the input text into tokens in process_text.\n",
      " |      If None is specified, ``r\"\\w[\\w']+\"`` is used. Ignored if using\n",
      " |      generate_from_frequencies.\n",
      " |  \n",
      " |  collocations : bool, default=True\n",
      " |      Whether to include collocations (bigrams) of two words. Ignored if using\n",
      " |      generate_from_frequencies.\n",
      " |  \n",
      " |  \n",
      " |      .. versionadded: 2.0\n",
      " |  \n",
      " |  colormap : string or matplotlib colormap, default=\"viridis\"\n",
      " |      Matplotlib colormap to randomly draw colors from for each word.\n",
      " |      Ignored if \"color_func\" is specified.\n",
      " |  \n",
      " |      .. versionadded: 2.0\n",
      " |  \n",
      " |  normalize_plurals : bool, default=True\n",
      " |      Whether to remove trailing 's' from words. If True and a word\n",
      " |      appears with and without a trailing 's', the one with trailing 's'\n",
      " |      is removed and its counts are added to the version without\n",
      " |      trailing 's' -- unless the word ends with 'ss'. Ignored if using\n",
      " |      generate_from_frequencies.\n",
      " |  \n",
      " |  repeat : bool, default=False\n",
      " |      Whether to repeat words and phrases until max_words or min_font_size\n",
      " |      is reached.\n",
      " |  \n",
      " |  Attributes\n",
      " |  ----------\n",
      " |  ``words_`` : dict of string to float\n",
      " |      Word tokens with associated frequency.\n",
      " |  \n",
      " |      .. versionchanged: 2.0\n",
      " |          ``words_`` is now a dictionary\n",
      " |  \n",
      " |  ``layout_`` : list of tuples (string, int, (int, int), int, color))\n",
      " |      Encodes the fitted word cloud. Encodes for each word the string, font\n",
      " |      size, position, orientation and color.\n",
      " |  \n",
      " |  Notes\n",
      " |  -----\n",
      " |  Larger canvases with make the code significantly slower. If you need a\n",
      " |  large word cloud, try a lower canvas size, and set the scale parameter.\n",
      " |  \n",
      " |  The algorithm might give more weight to the ranking of the words\n",
      " |  than their actual frequencies, depending on the ``max_font_size`` and the\n",
      " |  scaling heuristic.\n",
      " |  \n",
      " |  Methods defined here:\n",
      " |  \n",
      " |  __array__(self)\n",
      " |      Convert to numpy array.\n",
      " |      \n",
      " |      Returns\n",
      " |      -------\n",
      " |      image : nd-array size (width, height, 3)\n",
      " |          Word cloud image as numpy matrix.\n",
      " |  \n",
      " |  __init__(self, font_path=None, width=400, height=200, margin=2, ranks_only=None, prefer_horizontal=0.9, mask=None, scale=1, color_func=None, max_words=200, min_font_size=4, stopwords=None, random_state=None, background_color='black', max_font_size=None, font_step=1, mode='RGB', relative_scaling='auto', regexp=None, collocations=True, colormap=None, normalize_plurals=True, contour_width=0, contour_color='black', repeat=False)\n",
      " |      Initialize self.  See help(type(self)) for accurate signature.\n",
      " |  \n",
      " |  fit_words(self, frequencies)\n",
      " |      Create a word_cloud from words and frequencies.\n",
      " |      \n",
      " |      Alias to generate_from_frequencies.\n",
      " |      \n",
      " |      Parameters\n",
      " |      ----------\n",
      " |      frequencies : dict from string to float\n",
      " |          A contains words and associated frequency.\n",
      " |      \n",
      " |      Returns\n",
      " |      -------\n",
      " |      self\n",
      " |  \n",
      " |  generate(self, text)\n",
      " |      Generate wordcloud from text.\n",
      " |      \n",
      " |      The input \"text\" is expected to be a natural text. If you pass a sorted\n",
      " |      list of words, words will appear in your output twice. To remove this\n",
      " |      duplication, set ``collocations=False``.\n",
      " |      \n",
      " |      Alias to generate_from_text.\n",
      " |      \n",
      " |      Calls process_text and generate_from_frequencies.\n",
      " |      \n",
      " |      Returns\n",
      " |      -------\n",
      " |      self\n",
      " |  \n",
      " |  generate_from_frequencies(self, frequencies, max_font_size=None)\n",
      " |      Create a word_cloud from words and frequencies.\n",
      " |      \n",
      " |      Parameters\n",
      " |      ----------\n",
      " |      frequencies : dict from string to float\n",
      " |          A contains words and associated frequency.\n",
      " |      \n",
      " |      max_font_size : int\n",
      " |          Use this font-size instead of self.max_font_size\n",
      " |      \n",
      " |      Returns\n",
      " |      -------\n",
      " |      self\n",
      " |  \n",
      " |  generate_from_text(self, text)\n",
      " |      Generate wordcloud from text.\n",
      " |      \n",
      " |      The input \"text\" is expected to be a natural text. If you pass a sorted\n",
      " |      list of words, words will appear in your output twice. To remove this\n",
      " |      duplication, set ``collocations=False``.\n",
      " |      \n",
      " |      Calls process_text and generate_from_frequencies.\n",
      " |      \n",
      " |      ..versionchanged:: 1.2.2\n",
      " |          Argument of generate_from_frequencies() is not return of\n",
      " |          process_text() any more.\n",
      " |      \n",
      " |      Returns\n",
      " |      -------\n",
      " |      self\n",
      " |  \n",
      " |  process_text(self, text)\n",
      " |      Splits a long text into words, eliminates the stopwords.\n",
      " |      \n",
      " |      Parameters\n",
      " |      ----------\n",
      " |      text : string\n",
      " |          The text to be processed.\n",
      " |      \n",
      " |      Returns\n",
      " |      -------\n",
      " |      words : dict (string, int)\n",
      " |          Word tokens with associated frequency.\n",
      " |      \n",
      " |      ..versionchanged:: 1.2.2\n",
      " |          Changed return type from list of tuples to dict.\n",
      " |      \n",
      " |      Notes\n",
      " |      -----\n",
      " |      There are better ways to do word tokenization, but I don't want to\n",
      " |      include all those things.\n",
      " |  \n",
      " |  recolor(self, random_state=None, color_func=None, colormap=None)\n",
      " |      Recolor existing layout.\n",
      " |      \n",
      " |      Applying a new coloring is much faster than generating the whole\n",
      " |      wordcloud.\n",
      " |      \n",
      " |      Parameters\n",
      " |      ----------\n",
      " |      random_state : RandomState, int, or None, default=None\n",
      " |          If not None, a fixed random state is used. If an int is given, this\n",
      " |          is used as seed for a random.Random state.\n",
      " |      \n",
      " |      color_func : function or None, default=None\n",
      " |          Function to generate new color from word count, font size, position\n",
      " |          and orientation.  If None, self.color_func is used.\n",
      " |      \n",
      " |      colormap : string or matplotlib colormap, default=None\n",
      " |          Use this colormap to generate new colors. Ignored if color_func\n",
      " |          is specified. If None, self.color_func (or self.color_map) is used.\n",
      " |      \n",
      " |      Returns\n",
      " |      -------\n",
      " |      self\n",
      " |  \n",
      " |  to_array(self)\n",
      " |      Convert to numpy array.\n",
      " |      \n",
      " |      Returns\n",
      " |      -------\n",
      " |      image : nd-array size (width, height, 3)\n",
      " |          Word cloud image as numpy matrix.\n",
      " |  \n",
      " |  to_file(self, filename)\n",
      " |      Export to image file.\n",
      " |      \n",
      " |      Parameters\n",
      " |      ----------\n",
      " |      filename : string\n",
      " |          Location to write to.\n",
      " |      \n",
      " |      Returns\n",
      " |      -------\n",
      " |      self\n",
      " |  \n",
      " |  to_html(self)\n",
      " |  \n",
      " |  to_image(self)\n",
      " |  \n",
      " |  ----------------------------------------------------------------------\n",
      " |  Data descriptors defined here:\n",
      " |  \n",
      " |  __dict__\n",
      " |      dictionary for instance variables (if defined)\n",
      " |  \n",
      " |  __weakref__\n",
      " |      list of weak references to the object (if defined)\n",
      "\n"
     ]
    }
   ],
   "source": [
    "help(wordcloud.WordCloud())"
   ]
  },
  {
   "cell_type": "code",
   "execution_count": 15,
   "metadata": {},
   "outputs": [
    {
     "name": "stdout",
     "output_type": "stream",
     "text": [
      "DroidSansMono.ttf Upload Test.ipynb helpers.py        \u001b[34mtemplates\u001b[m\u001b[m\r\n",
      "\u001b[34mPrivate\u001b[m\u001b[m           \u001b[34m__pycache__\u001b[m\u001b[m       log.txt\r\n",
      "Untitled.ipynb    flask_webhook.py  \u001b[34mstatic\u001b[m\u001b[m\r\n"
     ]
    }
   ],
   "source": [
    "!ls Flask"
   ]
  },
  {
   "cell_type": "code",
   "execution_count": 37,
   "metadata": {},
   "outputs": [],
   "source": [
    "cloud = wordcloud.WordCloud(font_path = \"Flask/DroidSansMono.ttf\",\n",
    "                           background_color = None,\n",
    "                           mode = \"RGBA\",\n",
    "                            max_words = 15\n",
    "                           ).generate_from_frequencies(testfd)"
   ]
  },
  {
   "cell_type": "code",
   "execution_count": 38,
   "metadata": {},
   "outputs": [
    {
     "data": {
      "image/png": "[encoded data removed]",
      "text/plain": [
       "<Figure size 1440x1440 with 1 Axes>"
      ]
     },
     "metadata": {
      "needs_background": "light"
     },
     "output_type": "display_data"
    }
   ],
   "source": [
    "\n",
    "import matplotlib.pyplot as plt\n",
    "fig = plt.figure(figsize = (20,20))\n",
    "plt.axis(\"off\")\n",
    "plt.imshow(cloud)\n",
    "plt.savefig(\"testiop.png\", transparent = True)"
   ]
  },
  {
   "cell_type": "markdown",
   "metadata": {},
   "source": [
    "# Speedup"
   ]
  },
  {
   "cell_type": "code",
   "execution_count": 22,
   "metadata": {},
   "outputs": [
    {
     "name": "stdout",
     "output_type": "stream",
     "text": [
      "########Starting SCRIPT########\n",
      "Found 33 files in content table\n",
      "Found 33 files in conversations table\n"
     ]
    }
   ],
   "source": [
    "#IMPORTS\n",
    "########\n",
    "import pandas as pd\n",
    "import requests\n",
    "import re\n",
    "\n",
    "import mysql.connector\n",
    "import tpclean.tpclean as tp\n",
    "\n",
    "from sqlalchemy import create_engine\n",
    "\n",
    "#custom imports\n",
    "from Scripts.config import role, bucket_name, prefix, bucket_path, sub_path\n",
    "from Scripts.etl_functions import find_audios , transcribe_wav , get_pause , files_in_table\n",
    "\n",
    "#establish connection\n",
    "from Scripts.config import host, db\n",
    "from Private.private import user , password \n",
    "\n",
    "\n",
    "#SETUP\n",
    "########\n",
    "print(\"########Starting SCRIPT########\")\n",
    "\n",
    "conn_kwargs = {\"host\":host, \n",
    "               \"user\":user, \n",
    "               \"password\":password}\n",
    "#tp.sql_connect(db,db_type=\"mysql\",**conn_kwargs)\n",
    "conn = mysql.connector.Connect(database = db, **conn_kwargs)\n",
    "c = conn.cursor()\n",
    "\n",
    "#connecting via sqlalchemy because pandas needs an engine to store data in an mysql DB\n",
    "engine = create_engine(f'mysql+pymysql://{user}:{password}@{conn_kwargs[\"host\"]}:3306/{db}')\n",
    "\n",
    "#get content of content and conversation table to check if files exist\n",
    "files_in_content = files_in_table(c,\"content\", \"origin\")\n",
    "files_in_conversations = files_in_table(c,\"conversations\", \"filename\")\n",
    "                    \n",
    "audio_files = set(find_audios(bucket_name))"
   ]
  },
  {
   "cell_type": "code",
   "execution_count": 23,
   "metadata": {},
   "outputs": [
    {
     "name": "stdout",
     "output_type": "stream",
     "text": [
      "audio files: {'DJ_644_year-round-schooling_pro.wav', 'SN_483_freedom-of-speech_pro.wav', 'HE_482_tobacco_pro.wav', 'SN_101_affirmativeaction_pro.wav', 'YB_61_doping-in-sport_pro.wav', 'JL_602_schoolvouchers_pro.wav', 'YB_381_monarchy_pro.wav', 'TL_681_ip-rights_pro.wav', 'EH_61_doping-in-sport_pro.wav', 'HE_881_holocaust-denial_pro.wav', 'AM_101_affirmativeaction_pro.wav', 'EH_1_ban-video-games_pro.wav', 'TL_1_ban-video-games_pro.wav', 'YB_121_ban-boxing_pro.wav', 'TL_841_blasphemy_pro.wav', 'JL_181_multiculturalism_pro.wav', 'YB_1_ban-video-games_pro.wav', 'rpp16.wav', 'SN_61_doping-in-sport_pro.wav', 'YB_483_freedom-of-speech_pro.wav', 'DJ_841_blasphemy_pro.wav', 'DJ_1_ban-video-games_pro.wav', 'DZ_945_circumcision_pro.wav', 'DJ_681_ip-rights_pro.wav', 'TL_121_ban-boxing_pro.wav', 'DJ_881_holocaust-denial_pro_2.wav', 'TL_181_multiculturalism_pro.wav', 'TL_482_tobacco_pro.wav', 'TL_881_holocaust-denial_pro.wav', 'YB_602_schoolvouchers_pro.wav', 'TL_701_endangered-species_pro.wav', 'EH_381_monarchy_pro.wav', 'testwithrandomname.wav'}\n",
      "content files: {'DJ_644_year-round-schooling_pro.wav', 'SN_483_freedom-of-speech_pro.wav', 'HE_482_tobacco_pro.wav', 'SN_101_affirmativeaction_pro.wav', 'YB_61_doping-in-sport_pro.wav', 'JL_602_schoolvouchers_pro.wav', 'YB_381_monarchy_pro.wav', 'TL_681_ip-rights_pro.wav', 'EH_61_doping-in-sport_pro.wav', 'HE_881_holocaust-denial_pro.wav', 'AM_101_affirmativeaction_pro.wav', 'EH_1_ban-video-games_pro.wav', 'YB_121_ban-boxing_pro.wav', 'TL_1_ban-video-games_pro.wav', 'TL_841_blasphemy_pro.wav', 'JL_181_multiculturalism_pro.wav', 'YB_1_ban-video-games_pro.wav', 'rpp16.wav', 'SN_61_doping-in-sport_pro.wav', 'TL_701_endangered-species_pro.wav', 'DJ_841_blasphemy_pro.wav', 'DJ_1_ban-video-games_pro.wav', 'DZ_945_circumcision_pro.wav', 'DJ_681_ip-rights_pro.wav', 'TL_121_ban-boxing_pro.wav', 'DJ_881_holocaust-denial_pro_2.wav', 'TL_881_holocaust-denial_pro.wav', 'TL_482_tobacco_pro.wav', 'TL_181_multiculturalism_pro.wav', 'YB_602_schoolvouchers_pro.wav', 'YB_483_freedom-of-speech_pro.wav', 'EH_381_monarchy_pro.wav', 'testwithrandomname.wav'}\n",
      "conversation files: {'DJ_644_year-round-schooling_pro.wav', 'SN_483_freedom-of-speech_pro.wav', 'HE_482_tobacco_pro.wav', 'SN_101_affirmativeaction_pro.wav', 'YB_61_doping-in-sport_pro.wav', 'JL_602_schoolvouchers_pro.wav', 'YB_381_monarchy_pro.wav', 'TL_681_ip-rights_pro.wav', 'EH_61_doping-in-sport_pro.wav', 'HE_881_holocaust-denial_pro.wav', 'AM_101_affirmativeaction_pro.wav', 'EH_1_ban-video-games_pro.wav', 'YB_121_ban-boxing_pro.wav', 'TL_1_ban-video-games_pro.wav', 'TL_841_blasphemy_pro.wav', 'JL_181_multiculturalism_pro.wav', 'YB_1_ban-video-games_pro.wav', 'rpp16.wav', 'SN_61_doping-in-sport_pro.wav', 'TL_701_endangered-species_pro.wav', 'DJ_841_blasphemy_pro.wav', 'DJ_1_ban-video-games_pro.wav', 'DZ_945_circumcision_pro.wav', 'DJ_681_ip-rights_pro.wav', 'TL_121_ban-boxing_pro.wav', 'DJ_881_holocaust-denial_pro_2.wav', 'TL_881_holocaust-denial_pro.wav', 'TL_482_tobacco_pro.wav', 'TL_181_multiculturalism_pro.wav', 'YB_602_schoolvouchers_pro.wav', 'YB_483_freedom-of-speech_pro.wav', 'EH_381_monarchy_pro.wav', 'testwithrandomname.wav'}\n"
     ]
    }
   ],
   "source": [
    "print(f\"audio files: {audio_files}\")\n",
    "print(f\"content files: {files_in_content}\")\n",
    "print(f\"conversation files: {files_in_conversations}\")"
   ]
  },
  {
   "cell_type": "code",
   "execution_count": 24,
   "metadata": {},
   "outputs": [
    {
     "data": {
      "text/plain": [
       "{'AM_101_affirmativeaction_pro.wav',\n",
       " 'DJ_1_ban-video-games_pro.wav',\n",
       " 'DJ_644_year-round-schooling_pro.wav',\n",
       " 'DJ_681_ip-rights_pro.wav',\n",
       " 'DJ_841_blasphemy_pro.wav',\n",
       " 'DJ_881_holocaust-denial_pro_2.wav',\n",
       " 'DZ_945_circumcision_pro.wav',\n",
       " 'EH_1_ban-video-games_pro.wav',\n",
       " 'EH_381_monarchy_pro.wav',\n",
       " 'EH_61_doping-in-sport_pro.wav',\n",
       " 'HE_482_tobacco_pro.wav',\n",
       " 'HE_881_holocaust-denial_pro.wav',\n",
       " 'JL_181_multiculturalism_pro.wav',\n",
       " 'JL_602_schoolvouchers_pro.wav',\n",
       " 'SN_101_affirmativeaction_pro.wav',\n",
       " 'SN_483_freedom-of-speech_pro.wav',\n",
       " 'SN_61_doping-in-sport_pro.wav',\n",
       " 'TL_121_ban-boxing_pro.wav',\n",
       " 'TL_181_multiculturalism_pro.wav',\n",
       " 'TL_1_ban-video-games_pro.wav',\n",
       " 'TL_482_tobacco_pro.wav',\n",
       " 'TL_681_ip-rights_pro.wav',\n",
       " 'TL_701_endangered-species_pro.wav',\n",
       " 'TL_841_blasphemy_pro.wav',\n",
       " 'TL_881_holocaust-denial_pro.wav',\n",
       " 'YB_121_ban-boxing_pro.wav',\n",
       " 'YB_1_ban-video-games_pro.wav',\n",
       " 'YB_381_monarchy_pro.wav',\n",
       " 'YB_483_freedom-of-speech_pro.wav',\n",
       " 'YB_602_schoolvouchers_pro.wav',\n",
       " 'YB_61_doping-in-sport_pro.wav',\n",
       " 'rpp16.wav',\n",
       " 'testwithrandomname.wav'}"
      ]
     },
     "execution_count": 24,
     "metadata": {},
     "output_type": "execute_result"
    }
   ],
   "source": [
    "audio_files"
   ]
  },
  {
   "cell_type": "code",
   "execution_count": 4,
   "metadata": {},
   "outputs": [
    {
     "data": {
      "text/plain": [
       "{'AM_101_affirmativeaction_pro.wav',\n",
       " 'DJ_1_ban-video-games_pro.wav',\n",
       " 'DJ_644_year-round-schooling_pro.wav',\n",
       " 'DJ_681_ip-rights_pro.wav',\n",
       " 'DJ_841_blasphemy_pro.wav',\n",
       " 'DJ_881_holocaust-denial_pro_2.wav',\n",
       " 'DZ_945_circumcision_pro.wav',\n",
       " 'EH_1_ban-video-games_pro.wav',\n",
       " 'EH_381_monarchy_pro.wav',\n",
       " 'EH_61_doping-in-sport_pro.wav',\n",
       " 'HE_482_tobacco_pro.wav',\n",
       " 'HE_881_holocaust-denial_pro.wav',\n",
       " 'JL_181_multiculturalism_pro.wav',\n",
       " 'JL_602_schoolvouchers_pro.wav',\n",
       " 'SN_101_affirmativeaction_pro.wav',\n",
       " 'SN_483_freedom-of-speech_pro.wav',\n",
       " 'SN_61_doping-in-sport_pro.wav',\n",
       " 'TL_121_ban-boxing_pro.wav',\n",
       " 'TL_181_multiculturalism_pro.wav',\n",
       " 'TL_1_ban-video-games_pro.wav',\n",
       " 'TL_482_tobacco_pro.wav',\n",
       " 'TL_681_ip-rights_pro.wav',\n",
       " 'TL_701_endangered-species_pro.wav',\n",
       " 'TL_841_blasphemy_pro.wav',\n",
       " 'TL_881_holocaust-denial_pro.wav',\n",
       " 'YB_121_ban-boxing_pro.wav',\n",
       " 'YB_1_ban-video-games_pro.wav',\n",
       " 'YB_381_monarchy_pro.wav',\n",
       " 'YB_483_freedom-of-speech_pro.wav',\n",
       " 'YB_602_schoolvouchers_pro.wav',\n",
       " 'YB_61_doping-in-sport_pro.wav',\n",
       " 'rpp16.wav',\n",
       " 'testwithrandomname.wav'}"
      ]
     },
     "execution_count": 4,
     "metadata": {},
     "output_type": "execute_result"
    }
   ],
   "source": [
    "files_in_content"
   ]
  },
  {
   "cell_type": "code",
   "execution_count": 5,
   "metadata": {},
   "outputs": [
    {
     "data": {
      "text/plain": [
       "{'AM_101_affirmativeaction_pro.wav',\n",
       " 'DJ_1_ban-video-games_pro.wav',\n",
       " 'DJ_644_year-round-schooling_pro.wav',\n",
       " 'DJ_681_ip-rights_pro.wav',\n",
       " 'DJ_841_blasphemy_pro.wav',\n",
       " 'DJ_881_holocaust-denial_pro_2.wav',\n",
       " 'DZ_945_circumcision_pro.wav',\n",
       " 'EH_1_ban-video-games_pro.wav',\n",
       " 'EH_381_monarchy_pro.wav',\n",
       " 'EH_61_doping-in-sport_pro.wav',\n",
       " 'HE_482_tobacco_pro.wav',\n",
       " 'HE_881_holocaust-denial_pro.wav',\n",
       " 'JL_181_multiculturalism_pro.wav',\n",
       " 'JL_602_schoolvouchers_pro.wav',\n",
       " 'SN_101_affirmativeaction_pro.wav',\n",
       " 'SN_483_freedom-of-speech_pro.wav',\n",
       " 'SN_61_doping-in-sport_pro.wav',\n",
       " 'TL_121_ban-boxing_pro.wav',\n",
       " 'TL_181_multiculturalism_pro.wav',\n",
       " 'TL_1_ban-video-games_pro.wav',\n",
       " 'TL_482_tobacco_pro.wav',\n",
       " 'TL_681_ip-rights_pro.wav',\n",
       " 'TL_701_endangered-species_pro.wav',\n",
       " 'TL_841_blasphemy_pro.wav',\n",
       " 'TL_881_holocaust-denial_pro.wav',\n",
       " 'YB_121_ban-boxing_pro.wav',\n",
       " 'YB_1_ban-video-games_pro.wav',\n",
       " 'YB_381_monarchy_pro.wav',\n",
       " 'YB_483_freedom-of-speech_pro.wav',\n",
       " 'YB_602_schoolvouchers_pro.wav',\n",
       " 'YB_61_doping-in-sport_pro.wav',\n",
       " 'rpp16.wav',\n",
       " 'testwithrandomname.wav'}"
      ]
     },
     "execution_count": 5,
     "metadata": {},
     "output_type": "execute_result"
    }
   ],
   "source": [
    "files_in_conversations"
   ]
  },
  {
   "cell_type": "code",
   "execution_count": 47,
   "metadata": {},
   "outputs": [
    {
     "data": {
      "text/plain": [
       "['glickii']"
      ]
     },
     "execution_count": 47,
     "metadata": {},
     "output_type": "execute_result"
    }
   ],
   "source": [
    "intersect_files = audio_files.intersection(files_in_content).intersection(files_in_conversations)\n",
    "all_files = audio_files.union(files_in_content).union(files_in_conversations)\n",
    "all_files-intersect_files"
   ]
  },
  {
   "cell_type": "code",
   "execution_count": 30,
   "metadata": {},
   "outputs": [],
   "source": []
  },
  {
   "cell_type": "code",
   "execution_count": 33,
   "metadata": {},
   "outputs": [
    {
     "data": {
      "text/plain": [
       "set()"
      ]
     },
     "execution_count": 33,
     "metadata": {},
     "output_type": "execute_result"
    }
   ],
   "source": []
  },
  {
   "cell_type": "code",
   "execution_count": 43,
   "metadata": {},
   "outputs": [],
   "source": [
    "files_in_content.add(\"glickii\")"
   ]
  },
  {
   "cell_type": "code",
   "execution_count": 44,
   "metadata": {},
   "outputs": [],
   "source": [
    "files_in_conversations.add(\"glicki\")"
   ]
  },
  {
   "cell_type": "code",
   "execution_count": 45,
   "metadata": {},
   "outputs": [],
   "source": [
    "audio_files.add(\"glickii\")"
   ]
  },
  {
   "cell_type": "code",
   "execution_count": null,
   "metadata": {},
   "outputs": [],
   "source": []
  }
 ],
 "metadata": {
  "kernelspec": {
   "display_name": "Python 3",
   "language": "python",
   "name": "python3"
  },
  "language_info": {
   "codemirror_mode": {
    "name": "ipython",
    "version": 3
   },
   "file_extension": ".py",
   "mimetype": "text/x-python",
   "name": "python",
   "nbconvert_exporter": "python",
   "pygments_lexer": "ipython3",
   "version": "3.7.3"
  },
  "toc": {
   "base_numbering": 1,
   "nav_menu": {},
   "number_sections": true,
   "sideBar": true,
   "skip_h1_title": false,
   "title_cell": "Table of Contents",
   "title_sidebar": "Contents",
   "toc_cell": false,
   "toc_position": {},
   "toc_section_display": true,
   "toc_window_display": false
  }
 },
 "nbformat": 4,
 "nbformat_minor": 2
}
