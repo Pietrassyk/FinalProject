{
 "cells": [
  {
   "cell_type": "code",
   "execution_count": 1,
   "metadata": {},
   "outputs": [
    {
     "name": "stdout",
     "output_type": "stream",
     "text": [
      "========SETUP========\n",
      "Connecting to mysql\n",
      "successfully imported module\n",
      "Connection to mysql successfull. with curser MySQLCursor: (Nothing executed yet)\n"
     ]
    }
   ],
   "source": [
    "#IMPORTS\n",
    "########\n",
    "import pandas as pd\n",
    "import numpy as np\n",
    "import mysql.connector\n",
    "import tpclean.tpclean as tp\n",
    "\n",
    "#custom imports\n",
    "from Scripts.config import role, bucket_name, prefix, bucket_path, sub_path\n",
    "from Scripts.nlp_functions import generate_wordcloud , get_summary\n",
    "\n",
    "#establish connection\n",
    "from Scripts.config import host, db\n",
    "from Private.private import user , password\n",
    "\n",
    "#NLTK\n",
    "from nltk import FreqDist\n",
    "from nltk.corpus import stopwords\n",
    "from nltk.stem.wordnet import WordNetLemmatizer\n",
    "\n",
    "#Imports for Bigrams\n",
    "from nltk.collocations import BigramCollocationFinder\n",
    "from nltk.metrics import BigramAssocMeasures\n",
    "from Scripts.nlp_functions import bigram_to_single_word\n",
    "from nltk.sentiment.vader import SentimentIntensityAnalyzer\n",
    "\n",
    "#API Imports\n",
    "from Private.private import aylien_app_id,aylien_API_KEY\n",
    "\n",
    "print(\"========SETUP========\")\n",
    "#load credentials\n",
    "conn_kwargs = {\"host\":host, \n",
    "               \"user\":user, \n",
    "               \"password\":password}\n",
    "conn = tp.sql_connect(db,db_type=\"mysql\",**conn_kwargs)\n",
    "#conn = mysql.connector.Connect(database = db, **conn_kwargs)\n",
    "c = conn.cursor()"
   ]
  },
  {
   "cell_type": "code",
   "execution_count": 4,
   "metadata": {},
   "outputs": [],
   "source": [
    "class File:\n",
    "    def __init__(self,name):\n",
    "        self.filename = name"
   ]
  },
  {
   "cell_type": "code",
   "execution_count": 6,
   "metadata": {},
   "outputs": [],
   "source": [
    "file = File(\"YB_1_ban-video-games_pro.wav\")"
   ]
  },
  {
   "cell_type": "code",
   "execution_count": 11,
   "metadata": {},
   "outputs": [],
   "source": [
    "c.execute(f\"\"\"\tSELECT full_text , bigram_cloud_url , audio_path \n",
    "\t\t\t\t\t\tFROM conversations\n",
    "\t\t\t\t\t\tWHERE filename = '{file.filename}'\"\"\")\n",
    "output = c.fetchall()"
   ]
  },
  {
   "cell_type": "code",
   "execution_count": 13,
   "metadata": {},
   "outputs": [],
   "source": [
    "transcription , image , audio_file = output[0]"
   ]
  },
  {
   "cell_type": "code",
   "execution_count": 14,
   "metadata": {},
   "outputs": [
    {
     "data": {
      "text/plain": [
       "\"when a 10 year old child plays without any supervision in a game where he needs to run down old people and beat women up in order to score points. There is something seriously wrong and even dangerous about this. I'm going to have two points. Is prime minister first. What things are we allowed to ban in general? And secondly, the dangers, the dangerous effects of violent video games, specifically first point. So allegedly we're talking about a private product that doesn't directly harm anyone. Why are we justified in banning it? Thing is, as soon as we have good reason to believe that a certain product holds a dangerous effect for society, we are very much legitimate in either limiting it, as we do with alcohol, where we don't allow the sale of alcohol to certain age groups or in certain places, or in certain hours were even banning it all together like we do with drugs. It is not only our responsibility as a government to retroactively punish someone after doing something wrong, but it is also obviously a responsibility to protect our society and to try and do our best to prevent bad things for happening to begin with. Therefore, we have a responsibility off trying, trying to bend as much things that we think might have a detrimental effect. Offices on society. We do this all the time. There is nothing new about this moving on to the second point specifically about the dangerous effects of violent video games. So, firstly, let's let's analyze the target audience these gains are aimed at. Obviously, we're talking about young children. Moreover, the average age of kids playing this game keeps getting lower and lower. When five year old children watched their brothers playing these games, they want to play them to, um, Now what we need to understand is that everyone has violent impulses or violent urges. All of us do. This is exactly the reason violent video games thrill us so much, and they're so successful. Society teaches us when we grow up to suppress these urges by giving sanctions and violent behavior and rewards for kind behavior. In thes games, the incentives are completely completely reversed. From what we're trying to teach our children, you're getting rewarded for violent behavior and you're getting sanctioned for kind of behavior. Thing is, as I've said in the beginning. Children are playing this and they're completely unsupervised because their parents are buying these games in order for them to be a substitute for a baby sitter. When the children are playing these games, the parents can go off to work or go off, do whatever they want to do, and they think that their children are perfectly safe. But in the meanwhile, their children are learning about the world, and the incentive that they're getting are completely reversed from what we're actually trying to teach them, and then from the person that we want them to become, Um now combined that with the fact that the children are sitting for hours and hours in teaching this and with the fact that these games are getting more and more advanced and making you feel like you're actually in the game yourself, we have to do a great graphics in the game. We have to they first person perspectives where you feel that you're actually in the game, and the last point to add there is that the violence is a race to the bottom of these games. It keeps getting more graphic and more and more violent because the game's needs to continue on selling that, and the companies that make these games need to make them more and more thrilling. But the threshold for what's considered thrilling among young children keeps getting higher and higher, because if everyone can beat up other people and now we need to start beating up children, maybe we're doing Maura and more obscene things in order for this to be considered thrilling. So we have a race to the bottom of violence. Combine all of the things that we've just analyzed and what you get. A ZA result is in the worst case scenario in my lead to people that are actually violent. It might lead to young children that are expressing violent behavior that they learned in these video games in the school yard. And it's going to be increasingly harder to teach them to change their ways when the incentive that they're learning in these Games are completely reverse. This is already enough of a reason to ban these games. But even if we look at not the worst case scenario, but the more likely scenarios, we're getting more and more children with a bad temper, it will resort to anger to resolve their problems. These video games have a counter influence on the education that the parents give their children or that the state wants to provide for these children. So because we're perfectly within our rights to ban something when we consider it to have a bad effect on society and because we have seen that there is plenty of reason to believe that these video games indeed hold a dangerous effect for society, we beg you to propose.\""
      ]
     },
     "execution_count": 14,
     "metadata": {},
     "output_type": "execute_result"
    }
   ],
   "source": [
    "transcription"
   ]
  },
  {
   "cell_type": "code",
   "execution_count": 15,
   "metadata": {},
   "outputs": [
    {
     "data": {
      "text/plain": [
       "'https://finaldebatebucket.s3-us-east-2.amazonaws.com/wordclouds/YB_1_ban-video-games_pro.wav.png'"
      ]
     },
     "execution_count": 15,
     "metadata": {},
     "output_type": "execute_result"
    }
   ],
   "source": [
    "image"
   ]
  },
  {
   "cell_type": "code",
   "execution_count": 16,
   "metadata": {},
   "outputs": [
    {
     "data": {
      "text/plain": [
       "'https://finaldebatebucket.s3-us-east-2.amazonaws.com/cache-data/YB_1_ban-video-games_pro.wav'"
      ]
     },
     "execution_count": 16,
     "metadata": {},
     "output_type": "execute_result"
    }
   ],
   "source": [
    "audio_file"
   ]
  },
  {
   "cell_type": "code",
   "execution_count": null,
   "metadata": {},
   "outputs": [],
   "source": []
  },
  {
   "cell_type": "code",
   "execution_count": null,
   "metadata": {},
   "outputs": [],
   "source": [
    "text = \"\"\"we need to abolish the monarchy before we begin. We need to clarify something because there are many different mothers and types of monarchies in the world, starting from models where the monarch is the fact of ruler with absolute authority on all the political decisions being made like in Saudi Arabia are cutter two models where the monarch is more of a diplomatic symbolic figure with hardly any authority when it comes to policy, like in Great Britain for the purposes off this debate, all of these models, we will argue, need to give way in favor off a democratic republic. Of course, the more authorities that the morning calls, the bigger our problem becomes will have two points in the debate. First, we're going to explain the rationale of why we had monarchs to begin with and why this rationale is no longer valid Today and the second point in the second point, we will discuss the harms of a monarchy on under all models. So first point, it used to be that monarchs all had absolute authorities, and the legitimacy for the rule was that they managed to persuade the people that they had a divine right to rule. The royal families were nearly godlike, and this is why the title passes on is Hair Editori and passes on from father to child. Um, now the rationale behind it, as put forth by political philosopher Thomas hopes, was that we needed someone that one ruler above everyone else in order for there to be order in the street. Otherwise we would have anarchy if no one was there to give out rules and enforce them and punish someone. If he harmed me, then everyone would do as he pleases. And this is bad for everyone. Therefore, it's best to just sacrifice some of our liberties to a single ruler that will create order in the streets. But as time went by and the more the citizens became aware of their own rights and started demanding things from their kings, authorities of the of the Monarchs dwindle down and brought us to the development off democratic republics. And now there are plenty of examples of states that have no king. But there is still not in anarchy in the streets, and all that is needed in order for that to happen is a functioning government parliaments that makes laws and the courts to to enforce them. This thus the old logic and rationale behind having a monarch is no longer valid today. The new rational given sometimes, especially in Great Britain, is that we're talking about an institution that is ingrained in the tradition of the people and in their culture and history, and all of that is very true. But nostalgia and romanticism can only get you so far. This is exactly what museums air for. We're not saying that we should just forget all about our history. But just like Viking, culture is a very important part of the Nordic countries history. This does not mean that they should go out and ravage the seas. Today. We should put that behind if we don't have a stronger logic behind that. Now, the monarchy comes at a very high price and we need to consider whether it is worth it just in favor off nostalgia. This brings me to my second point where I will discuss the harms of the monarchy. Along the years, there have been good kings and there have been bad kings. But the biggest problem is that the people have no control over what their king does, except maybe for violent revolutions when they try to remove the king. And this is, of course, something that we would like to prevent in the future. Now, because the title passes on through heritage, since the King needn't worry about his seat and can pretty much do whatever he pleases, even if it comes at the expense off his citizens in absolute monarchies models. This is true to this very day. On top of that, having grown up in the palace his entire life. Even if the king wishes to do well most for the times, he is not fully aware and isn't really connected to the average citizens that he rules over and doesn't know what they need. Um, now, this is the first problem that democracy has come to fix even elected governments. Of course, there are good governments in bad governments. But the head of state always knows that if he's not doing a good job and he's not pleasing its people, then he will be removed from office, and this is the biggest check and balance on the power off the government. That's important. But even in constitutional monarchies, where the King is not a political leader like in three u. K. There still is a very high price to pay for monarchy. Firstly, money, it costs a lot of money to maintain Buckingham Palace or the lavish lifestyles of the royal family. Of course, there's also security costs and costs off expeditions abroad and all of these things. Now this all comes from the taxpayers payroll, and this is the taxpayer that did not elect this monarch. To begin with. This is not legitimate, more over. There is something wrong about still having a class citizens like royal families. This fixates the class system of old age, and we think that all of these all of these reasons are more than enough to abolish all models of monarchies.\"\"\".split(\" \")"
   ]
  },
  {
   "cell_type": "code",
   "execution_count": null,
   "metadata": {},
   "outputs": [],
   "source": [
    "file = \"testi\""
   ]
  },
  {
   "cell_type": "code",
   "execution_count": null,
   "metadata": {},
   "outputs": [],
   "source": [
    "## CREATE BIGRAMS\n",
    "finder = BigramCollocationFinder.from_words(text)\n",
    "finder.nbest(BigramAssocMeasures.likelihood_ratio, 10)\n",
    "bigrams_fd = finder.ngram_fd\n",
    "\n",
    "#visualize in a wordcloud\n",
    "testfd = bigram_to_single_word(bigrams_fd)"
   ]
  },
  {
   "cell_type": "code",
   "execution_count": null,
   "metadata": {},
   "outputs": [],
   "source": [
    "wordcloud_url = generate_wordcloud(testfd, file)\n",
    "c.execute(f\"\"\"UPDATE conversations\n",
    "                 SET bigram_cloud_url = \"{wordcloud_url}\"\n",
    "                 WHERE filename = \"{file}\"\n",
    "                 \"\"\")\n"
   ]
  },
  {
   "cell_type": "code",
   "execution_count": null,
   "metadata": {},
   "outputs": [],
   "source": [
    "conn.commit()"
   ]
  },
  {
   "cell_type": "code",
   "execution_count": null,
   "metadata": {},
   "outputs": [],
   "source": [
    "conn.close()"
   ]
  },
  {
   "cell_type": "code",
   "execution_count": null,
   "metadata": {},
   "outputs": [],
   "source": []
  }
 ],
 "metadata": {
  "kernelspec": {
   "display_name": "Python 3",
   "language": "python",
   "name": "python3"
  },
  "language_info": {
   "codemirror_mode": {
    "name": "ipython",
    "version": 3
   },
   "file_extension": ".py",
   "mimetype": "text/x-python",
   "name": "python",
   "nbconvert_exporter": "python",
   "pygments_lexer": "ipython3",
   "version": "3.7.3"
  },
  "toc": {
   "base_numbering": 1,
   "nav_menu": {},
   "number_sections": true,
   "sideBar": true,
   "skip_h1_title": false,
   "title_cell": "Table of Contents",
   "title_sidebar": "Contents",
   "toc_cell": false,
   "toc_position": {},
   "toc_section_display": true,
   "toc_window_display": false
  }
 },
 "nbformat": 4,
 "nbformat_minor": 2
}
