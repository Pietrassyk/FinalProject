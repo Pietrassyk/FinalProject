{
 "cells": [
  {
   "cell_type": "code",
   "execution_count": 38,
   "metadata": {},
   "outputs": [],
   "source": [
    "import re"
   ]
  },
  {
   "cell_type": "code",
   "execution_count": 47,
   "metadata": {},
   "outputs": [],
   "source": [
    "sysname = \"HE701endangered-species_con.wav\"\n",
    "ranname = \"randomfilename.wav\""
   ]
  },
  {
   "cell_type": "code",
   "execution_count": 52,
   "metadata": {},
   "outputs": [],
   "source": [
    "filename = ranname"
   ]
  },
  {
   "cell_type": "code",
   "execution_count": 49,
   "metadata": {},
   "outputs": [],
   "source": [
    "filename = sysname"
   ]
  },
  {
   "cell_type": "code",
   "execution_count": 53,
   "metadata": {},
   "outputs": [],
   "source": [
    "#check whether file has systematic name\n",
    "name_split = filename[:-4].rsplit(\"_\",2)\n",
    "if re.match(\".*_.{3,}(_pro|_con).wav\",filename):\n",
    "    topic = name_split[-2].lower()\n",
    "    pro = int(name_split[-1].lower() == \"pro\")\n",
    "\n",
    "#extract informatio    \n",
    "else:\n",
    "    if \"pro\" == name_split[-1]:\n",
    "        pro=1\n",
    "        topic = name_split[-2]\n",
    "    elif \"con\" == name_split[-1]:\n",
    "        pro=0\n",
    "        topic = name_split[-2]\n",
    "    else:\n",
    "        pro = None\n",
    "        topic = filename[:-4]\n",
    "\n",
    "#write values\n",
    "values = [filename,\n",
    "                topic, \n",
    "                pro, \n",
    "                trans_json_uri, \n",
    "                fulltext\n",
    "         ]"
   ]
  },
  {
   "cell_type": "code",
   "execution_count": 54,
   "metadata": {},
   "outputs": [
    {
     "data": {
      "text/plain": [
       "['randomfilename.wav', 'randomfilename', None]"
      ]
     },
     "execution_count": 54,
     "metadata": {},
     "output_type": "execute_result"
    }
   ],
   "source": [
    "values"
   ]
  },
  {
   "cell_type": "code",
   "execution_count": 44,
   "metadata": {},
   "outputs": [
    {
     "data": {
      "text/plain": [
       "['HE701endangered-species', 'pro']"
      ]
     },
     "execution_count": 44,
     "metadata": {},
     "output_type": "execute_result"
    }
   ],
   "source": [
    "name_split"
   ]
  },
  {
   "cell_type": "code",
   "execution_count": null,
   "metadata": {},
   "outputs": [],
   "source": [
    "name_split = filename[:-4].rsplit(\"_\",2)\n",
    "#check for systematik filename\n",
    "#fill values                   \n",
    "values = [#filename,\n",
    "                name_split[-2].lower(), \n",
    "                int(name_split[-1].lower() == \"pro\"), \n",
    "                #trans_json_uri, \n",
    "                #fulltext\n",
    "]"
   ]
  },
  {
   "cell_type": "code",
   "execution_count": 25,
   "metadata": {},
   "outputs": [
    {
     "data": {
      "text/plain": [
       "'hllo'"
      ]
     },
     "execution_count": 25,
     "metadata": {},
     "output_type": "execute_result"
    }
   ],
   "source": [
    "\"hllo\".rsplit(\"_\",2)[-1]"
   ]
  },
  {
   "cell_type": "code",
   "execution_count": null,
   "metadata": {},
   "outputs": [],
   "source": []
  }
 ],
 "metadata": {
  "kernelspec": {
   "display_name": "Python 3",
   "language": "python",
   "name": "python3"
  },
  "language_info": {
   "codemirror_mode": {
    "name": "ipython",
    "version": 3
   },
   "file_extension": ".py",
   "mimetype": "text/x-python",
   "name": "python",
   "nbconvert_exporter": "python",
   "pygments_lexer": "ipython3",
   "version": "3.7.3"
  },
  "toc": {
   "base_numbering": 1,
   "nav_menu": {},
   "number_sections": true,
   "sideBar": true,
   "skip_h1_title": false,
   "title_cell": "Table of Contents",
   "title_sidebar": "Contents",
   "toc_cell": false,
   "toc_position": {},
   "toc_section_display": true,
   "toc_window_display": false
  }
 },
 "nbformat": 4,
 "nbformat_minor": 2
}
