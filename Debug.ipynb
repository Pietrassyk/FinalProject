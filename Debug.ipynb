{
 "cells": [
  {
   "cell_type": "code",
   "execution_count": 1,
   "metadata": {},
   "outputs": [
    {
     "name": "stdout",
     "output_type": "stream",
     "text": [
      "========SETUP========\n",
      "Connecting to mysql\n",
      "successfully imported module\n",
      "Connection to mysql successfull. with curser MySQLCursor: (Nothing executed yet)\n"
     ]
    }
   ],
   "source": [
    "#IMPORTS\n",
    "########\n",
    "import pandas as pd\n",
    "import numpy as np\n",
    "import mysql.connector\n",
    "import tpclean.tpclean as tp\n",
    "\n",
    "#custom imports\n",
    "from Scripts.config import role, bucket_name, prefix, bucket_path, sub_path\n",
    "from Scripts.nlp_functions import generate_wordcloud , get_summary\n",
    "\n",
    "#establish connection\n",
    "from Scripts.config import host, db\n",
    "from Private.private import user , password\n",
    "\n",
    "#NLTK\n",
    "from nltk import FreqDist\n",
    "from nltk.corpus import stopwords\n",
    "from nltk.stem.wordnet import WordNetLemmatizer\n",
    "\n",
    "#Imports for Bigrams\n",
    "from nltk.collocations import BigramCollocationFinder\n",
    "from nltk.metrics import BigramAssocMeasures\n",
    "from Scripts.nlp_functions import bigram_to_single_word\n",
    "from nltk.sentiment.vader import SentimentIntensityAnalyzer\n",
    "\n",
    "#API Imports\n",
    "from Private.private import aylien_app_id,aylien_API_KEY\n",
    "\n",
    "print(\"========SETUP========\")\n",
    "#load credentials\n",
    "conn_kwargs = {\"host\":host, \n",
    "               \"user\":user, \n",
    "               \"password\":password}\n",
    "conn = tp.sql_connect(db,db_type=\"mysql\",**conn_kwargs)\n",
    "#conn = mysql.connector.Connect(database = db, **conn_kwargs)\n",
    "c = conn.cursor()"
   ]
  },
  {
   "cell_type": "code",
   "execution_count": 2,
   "metadata": {},
   "outputs": [],
   "source": [
    "from Private.private import aylien_app_id,aylien_API_KEY\n",
    "from aylienapiclient import textapi"
   ]
  },
  {
   "cell_type": "code",
   "execution_count": 3,
   "metadata": {},
   "outputs": [],
   "source": [
    "text = 'we should embrace school vouchers by this women, a system in which parents receive a voucher, which is usable. AtT. Any school, public, private, parochial or secular, which would be equal in value to the cost of attending a local public school. So, in other words, if I live in a town and there was a public school, the voucher I received would be equal in value to the cost of a student attending that public school. This has been implemented in some of the United States and also in certain European municipalities, and was the subject of a referendum in Britain. We tell you that one forms could take would be a tax rebate. In the United States, parents can receive a tax credit if they have children below a certain age. We think that this might work in a similar way in terms of people receiving a break on their taxes rather than receiving a direct cash transfer. So with that in mind, I have three arguments about better education, about the rights appearance and about what is best for the children. So, in terms of better education, we tell you that on our side of the house schools can no longer be complacent. Right now, schools know that they will receive students whether or not they offer a high quality of service. But by implementing this policy, if schools to a poor job educating students, then they will receive fewer students, access fewer vouchers and have less funding. We tell you that schools will not want this because they want to have more funding relative for things like athletics and music programs, et cetera. That costs lots of money so one schools have to compete. There will be more likely to actually implement, like new forms of educational policy. So we think that we better reward innovation. In other words, if there are new teaching techniques or continuing education that''s available for educators, schools, when they''ll be rewarded for encouraging their teachers, to pursue those things and for proof like empire ing people who will be able to implement these new types of education. But on top of that, we think that state schools are often overcrowded, particularly in low income areas. We think that one of the largest barriers facing students in these schools, it''s a lack of attention from teachers, so if you have fewer students in public schools because now more people can afford private schools. We think that students will get more one on one time and have better access to education because they actually get the attention they need to learn. We also tell you that you''ll get better education because you''ll get more community investment in schools by. This would mean that parents will be more likely to invest their time in a school if they''re giving up this voucher, which represents a tax credit forever. But if the money is automatically taken out and they never see it directly, we tell you that when people feel like they''re paying for something, they feel a sense of ownership. And this will be more obvious on our side of the house when you have to turn over a voucher rather than just having the school exist and be funded by taxes in the abstract. I''m sure that the other team is going to get up here and say that schools would be underfunded on our side of the house. But we think that the lack of overcrowding will offset the lower funding that schools were received and ultimately students will be better off. For this reason, our second point is about the rights of parents. We tell you that right now in the status quo on Lee, wealthy families have the ability to choose where to send their children to school. In other words, if you want to send your kids to a parochial school, you could only afford to do that. If you have a lot of money, we think that it''s unfair if you have to pay for public school, even if your children are educated there. Recognize that right now, in countries like the U. S. And Britain, whether or not your children go to state provided schools, you''re still paying taxes that fund those schools. We think that it is wrong to force parents to pay for a service that they''re not receiving and also that it''s wrong that only wealthy parents can afford different types of schools. We think that by giving this voucher, parents would be able to afford to send their children to parochial schools or even if not every parent could many more parents would be able to do so so society would be comparatively better off with respect to the rights of parents we think it''s also important that parents have a tremendous right to choose what is best for their children. We have our parents to do things like name their children, decide where their children grow up, decide at their children, play sports or if they do, boy or Girl scouts. Ultimately, we see that parents are allowed to make lots of decisions. Why should they not then be able to make a decision about where their children go to school? We think that this is principally inconsistent, and the opposition, in order to win the debate, will need to explain why choosing where your children go to school is meaningful, distinct from all of the other important choices parents make. We think that parents deserve to be able to do what is best for their children, and that ultimately parents know what is best for their children more than anyone else, since they spend so much more time with thumb. And since they''re more invested in them than any other actor, which leads nicely into our third argument about what is ultimately best for the children attending these schools. We think that the most important issue in this debate is what is best for the children who are being educated. So the worst case for these children, if we were to implement vouchers, is that they would go to the same school, but it would be less crowded. So even in the worst case, they received more individual attention, as I mentioned earlier. So they''re still better off than they are right now in the status quo. But in the best case, these children are able to go to a better school. For instance, if you had a special needs child who needed to go to a school, that the state wouldn''t fund, but that at the same time would be really beneficial for this child to learn that would be much better off on our side of the house. We see that in the status quo. Most states provide first things like schools for the death, but don''t provide schools for, like autistic children and other groups that might need special attention. They require them to go to school with the general public. When these students might not be well served, they''re on our side of the house. It would be possible for more schools to open that could uniquely serve these groups of students because the vouchers would be available is funding, and these students will be better off because they would get the kind of unique attention that they need in order to thrive and grow. So because we get better education because we better uphold the rights of parents principally and because we get better outcomes for students, particularly special needs students, I think it''s clear that we should embrace school vouchers. Thank you.'"
   ]
  },
  {
   "cell_type": "code",
   "execution_count": 4,
   "metadata": {},
   "outputs": [],
   "source": [
    "file = 'JL_602_schoolvouchers_pro.wav'\n",
    "cfg_summary_len = 3\n",
    "cfg_summary_lang = \"english\""
   ]
  },
  {
   "cell_type": "code",
   "execution_count": 9,
   "metadata": {},
   "outputs": [
    {
     "name": "stdout",
     "output_type": "stream",
     "text": [
      "Summary Successfull\n"
     ]
    }
   ],
   "source": [
    "summary_text , summary_bullets = get_summary(file, text, aylien_app_id, aylien_API_KEY, )"
   ]
  },
  {
   "cell_type": "code",
   "execution_count": 10,
   "metadata": {},
   "outputs": [
    {
     "data": {
      "text/plain": [
       "'We think that by giving this voucher, parents would be able to afford to send their children to parochial schools or even if not every parent could many more parents would be able to do so so society would be comparatively better off with respect to the rights of parents we think its also important that parents have a tremendous right to choose what is best for their children.'"
      ]
     },
     "execution_count": 10,
     "metadata": {},
     "output_type": "execute_result"
    }
   ],
   "source": [
    "summary_bullets[0]"
   ]
  },
  {
   "cell_type": "code",
   "execution_count": 12,
   "metadata": {},
   "outputs": [
    {
     "name": "stdout",
     "output_type": "stream",
     "text": [
      "Writing Bulletpoints to summary_bullets table\n"
     ]
    }
   ],
   "source": [
    "print(\"Writing Bulletpoints to summary_bullets table\")\n",
    "for bulletpoint in summary_bullets:\n",
    "    c.execute(f\"\"\"INSERT INTO summary_bullets (bullet)\n",
    "            VALUES (\"{bulletpoint}\")\n",
    "            \"\"\")\n",
    "    conn.commit()"
   ]
  },
  {
   "cell_type": "code",
   "execution_count": 13,
   "metadata": {},
   "outputs": [],
   "source": [
    "conn.close()"
   ]
  },
  {
   "cell_type": "code",
   "execution_count": null,
   "metadata": {},
   "outputs": [],
   "source": []
  }
 ],
 "metadata": {
  "kernelspec": {
   "display_name": "Python 3",
   "language": "python",
   "name": "python3"
  },
  "language_info": {
   "codemirror_mode": {
    "name": "ipython",
    "version": 3
   },
   "file_extension": ".py",
   "mimetype": "text/x-python",
   "name": "python",
   "nbconvert_exporter": "python",
   "pygments_lexer": "ipython3",
   "version": "3.7.3"
  },
  "toc": {
   "base_numbering": 1,
   "nav_menu": {},
   "number_sections": true,
   "sideBar": true,
   "skip_h1_title": false,
   "title_cell": "Table of Contents",
   "title_sidebar": "Contents",
   "toc_cell": false,
   "toc_position": {},
   "toc_section_display": true,
   "toc_window_display": false
  }
 },
 "nbformat": 4,
 "nbformat_minor": 2
}
