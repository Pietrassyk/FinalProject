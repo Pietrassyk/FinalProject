{
 "cells": [
  {
   "cell_type": "markdown",
   "metadata": {},
   "source": [
    "# Imports"
   ]
  },
  {
   "cell_type": "code",
   "execution_count": 1,
   "metadata": {},
   "outputs": [],
   "source": [
    "#IMPORTS\n",
    "########\n",
    "import pandas as pd\n",
    "import requests\n",
    "\n",
    "import mysql.connector\n",
    "import tpclean.tpclean as tp\n",
    "\n",
    "from sqlalchemy import create_engine\n",
    "\n",
    "#custom imports\n",
    "from Scripts.config import role, bucket_name, prefix, bucket_path, sub_path\n",
    "\n",
    "#establish connection\n",
    "from Scripts.config import host, db\n",
    "from Private.private import user , password"
   ]
  },
  {
   "cell_type": "markdown",
   "metadata": {},
   "source": [
    "# Load Data"
   ]
  },
  {
   "cell_type": "markdown",
   "metadata": {},
   "source": [
    "## establish connection"
   ]
  },
  {
   "cell_type": "code",
   "execution_count": 2,
   "metadata": {},
   "outputs": [
    {
     "name": "stdout",
     "output_type": "stream",
     "text": [
      "Connecting to mysql\n",
      "successfully imported module\n",
      "Connection to mysql successfull. with curser MySQLCursor: (Nothing executed yet)\n"
     ]
    }
   ],
   "source": [
    "#load credentials\n",
    "conn_kwargs = {\"host\":host, \n",
    "               \"user\":user, \n",
    "               \"password\":password}\n",
    "conn = tp.sql_connect(db,db_type=\"mysql\",**conn_kwargs)\n",
    "#conn = mysql.connector.Connect(database = db, **conn_kwargs)\n",
    "c = conn.cursor()\n",
    "\n",
    "#connecting via sqlalchemy because pandas needs an engine to store data in an mysql DB\n",
    "engine = create_engine(f'mysql+pymysql://{user}:{password}@{conn_kwargs[\"host\"]}:3306/{db}')"
   ]
  },
  {
   "cell_type": "markdown",
   "metadata": {},
   "source": [
    "## SQL Querries"
   ]
  },
  {
   "cell_type": "code",
   "execution_count": 3,
   "metadata": {},
   "outputs": [
    {
     "data": {
      "text/html": [
       "<div>\n",
       "<style scoped>\n",
       "    .dataframe tbody tr th:only-of-type {\n",
       "        vertical-align: middle;\n",
       "    }\n",
       "\n",
       "    .dataframe tbody tr th {\n",
       "        vertical-align: top;\n",
       "    }\n",
       "\n",
       "    .dataframe thead th {\n",
       "        text-align: right;\n",
       "    }\n",
       "</style>\n",
       "<table border=\"1\" class=\"dataframe\">\n",
       "  <thead>\n",
       "    <tr style=\"text-align: right;\">\n",
       "      <th></th>\n",
       "      <th>Tables_in_debater</th>\n",
       "    </tr>\n",
       "  </thead>\n",
       "  <tbody>\n",
       "    <tr>\n",
       "      <th>0</th>\n",
       "      <td>content</td>\n",
       "    </tr>\n",
       "    <tr>\n",
       "      <th>1</th>\n",
       "      <td>conversations</td>\n",
       "    </tr>\n",
       "    <tr>\n",
       "      <th>2</th>\n",
       "      <td>test</td>\n",
       "    </tr>\n",
       "  </tbody>\n",
       "</table>\n",
       "</div>"
      ],
      "text/plain": [
       "  Tables_in_debater\n",
       "0           content\n",
       "1     conversations\n",
       "2              test"
      ]
     },
     "execution_count": 3,
     "metadata": {},
     "output_type": "execute_result"
    }
   ],
   "source": [
    "tp.sql(\"\"\"show tables\"\"\")"
   ]
  },
  {
   "cell_type": "code",
   "execution_count": 4,
   "metadata": {},
   "outputs": [],
   "source": [
    "words_df = tp.sql(\"\"\"SELECT origin\n",
    "FROM content\n",
    "GROUP BY origin\n",
    "HAVING COUNT(freq) = 0\"\"\")"
   ]
  },
  {
   "cell_type": "code",
   "execution_count": 6,
   "metadata": {},
   "outputs": [],
   "source": [
    "job_list = list(words_df.iloc[:,0])\n",
    "file = job_list[0]"
   ]
  },
  {
   "cell_type": "code",
   "execution_count": 8,
   "metadata": {},
   "outputs": [
    {
     "data": {
      "text/plain": [
       "'AM_101_affirmativeaction_pro.wav'"
      ]
     },
     "execution_count": 8,
     "metadata": {},
     "output_type": "execute_result"
    }
   ],
   "source": [
    "file"
   ]
  },
  {
   "cell_type": "code",
   "execution_count": 14,
   "metadata": {},
   "outputs": [],
   "source": [
    "text_df = tp.sql(f\"\"\"SELECT full_text FROM conversations WHERE filename = \"{file}\" \"\"\")\n",
    "text = text_df[\"full_text\"][0]"
   ]
  },
  {
   "cell_type": "markdown",
   "metadata": {},
   "source": [
    "# Feature Engineering"
   ]
  },
  {
   "cell_type": "code",
   "execution_count": 15,
   "metadata": {},
   "outputs": [],
   "source": [
    "import nltk\n",
    "import numpy as np\n",
    "import matplotlib.pyplot as plt\n",
    "from nltk import FreqDist\n",
    "from nltk.corpus import stopwords"
   ]
  },
  {
   "cell_type": "code",
   "execution_count": null,
   "metadata": {},
   "outputs": [],
   "source": [
    "file_df = tp.sql(f\"\"\"SELECT pos_in_conv,\n",
    "                    LOWER(content) as content\n",
    "                    FROM content\n",
    "                    WHERE type = \"pronunciation\" and origin = \"{file}\" \"\"\")"
   ]
  },
  {
   "cell_type": "code",
   "execution_count": null,
   "metadata": {},
   "outputs": [],
   "source": [
    "tokens = np.asarray(file_df.iloc[:,1]).reshape(len(file_df),)"
   ]
  },
  {
   "cell_type": "code",
   "execution_count": null,
   "metadata": {},
   "outputs": [],
   "source": [
    "from nltk.tokenize import sent_tokenize\n",
    "sentences = sent_tokenize(text) "
   ]
  },
  {
   "cell_type": "markdown",
   "metadata": {},
   "source": [
    "## Remove Stopwords and Lemmatize"
   ]
  },
  {
   "cell_type": "code",
   "execution_count": null,
   "metadata": {},
   "outputs": [],
   "source": [
    "from nltk.stem.wordnet import WordNetLemmatizer\n",
    "\n",
    "stopword_list = stopwords.words(\"english\")\n",
    "lemmatizer = WordNetLemmatizer()"
   ]
  },
  {
   "cell_type": "code",
   "execution_count": null,
   "metadata": {},
   "outputs": [],
   "source": [
    "#define function for stopping and lemmatizing\n",
    "stoplem = lambda x: np.NaN if x in stopword_list else lemmatizer.lemmatize(x)\n",
    "#remove stoppwords and lemmatize ramaining words\n",
    "file_df[\"lemmatized\"] = file_df[\"content\"].apply(stoplem)"
   ]
  },
  {
   "cell_type": "code",
   "execution_count": null,
   "metadata": {},
   "outputs": [],
   "source": [
    "#create freqency dict\n",
    "fDist_lemm = FreqDist(file_df[\"lemmatized\"].dropna(),)"
   ]
  },
  {
   "cell_type": "code",
   "execution_count": null,
   "metadata": {},
   "outputs": [],
   "source": [
    "#append frequencies to lemmatized words\n",
    "freqs = pd.DataFrame.from_dict(fDist_lemm,orient = \"index\", columns = [\"freq\"])\n",
    "file_df = pd.merge(file_df,freqs, how = \"left\", left_on = \"lemmatized\", right_index = True)"
   ]
  },
  {
   "cell_type": "markdown",
   "metadata": {},
   "source": [
    "## Vizualisation\n",
    "\n",
    "+ Upload Freqdists to new SQL Table\n",
    "+ TODO : Make Wordclouds in Tableau"
   ]
  },
  {
   "cell_type": "code",
   "execution_count": null,
   "metadata": {},
   "outputs": [],
   "source": [
    "from wordcloud import WordCloud"
   ]
  },
  {
   "cell_type": "code",
   "execution_count": null,
   "metadata": {},
   "outputs": [],
   "source": [
    "def generate_wordcloud(text, **kwargs): # optionally add: stopwords=STOPWORDS and change the arg below\n",
    "    wordcloud = WordCloud(font_path='/Library/Fonts/Verdana.ttf',\n",
    "                          random_state = 42,\n",
    "                          background_color = \"white\",\n",
    "                          width=800,\n",
    "                          height=400,\n",
    "                          scale = 1,\n",
    "                          max_words = 15,\n",
    "                          relative_scaling = 1.0, # set or space-separated string\n",
    "                          **kwargs\n",
    "                          ).generate_from_frequencies(text)\n",
    "    plt.imshow(wordcloud)\n",
    "    plt.axis(\"off\")\n",
    "    plt.show()"
   ]
  },
  {
   "cell_type": "code",
   "execution_count": null,
   "metadata": {
    "scrolled": true
   },
   "outputs": [],
   "source": [
    "#lemmatized wordlcloud\n",
    "generate_wordcloud(fDist_lemm)"
   ]
  },
  {
   "cell_type": "markdown",
   "metadata": {},
   "source": [
    "## Bigrams"
   ]
  },
  {
   "cell_type": "code",
   "execution_count": null,
   "metadata": {},
   "outputs": [],
   "source": [
    "file_df.head()"
   ]
  },
  {
   "cell_type": "code",
   "execution_count": null,
   "metadata": {},
   "outputs": [],
   "source": [
    "from nltk.collocations import BigramCollocationFinder\n",
    "from nltk.metrics import BigramAssocMeasures"
   ]
  },
  {
   "cell_type": "code",
   "execution_count": null,
   "metadata": {},
   "outputs": [],
   "source": [
    "finder = BigramCollocationFinder.from_words(file_df[\"lemmatized\"].dropna())"
   ]
  },
  {
   "cell_type": "code",
   "execution_count": null,
   "metadata": {},
   "outputs": [],
   "source": [
    "finder.nbest(BigramAssocMeasures.likelihood_ratio, 10)"
   ]
  },
  {
   "cell_type": "code",
   "execution_count": null,
   "metadata": {},
   "outputs": [],
   "source": [
    "bigrams_fd = finder.ngram_fd"
   ]
  },
  {
   "cell_type": "code",
   "execution_count": null,
   "metadata": {},
   "outputs": [],
   "source": [
    "def bigram_to_single_word(bigrams_fd):\n",
    "    out = dict(zip([x[0]+\" \"+x[1] for x in bigrams_fd.keys()],bigrams_fd.values()))\n",
    "    return out"
   ]
  },
  {
   "cell_type": "code",
   "execution_count": null,
   "metadata": {
    "scrolled": true
   },
   "outputs": [],
   "source": [
    "testfd = bigram_to_single_word(bigrams_fd)\n",
    "generate_wordcloud(testfd)"
   ]
  },
  {
   "cell_type": "markdown",
   "metadata": {},
   "source": [
    "# Sentiment analysis"
   ]
  },
  {
   "cell_type": "code",
   "execution_count": null,
   "metadata": {},
   "outputs": [],
   "source": [
    "from nltk.sentiment.vader import SentimentIntensityAnalyzer\n",
    "sia = SentimentIntensityAnalyzer()"
   ]
  },
  {
   "cell_type": "code",
   "execution_count": null,
   "metadata": {},
   "outputs": [],
   "source": [
    "sc = lambda x: sia.polarity_scores(x)[\"compound\"]\n",
    "file_df[\"sentiment_score\"] = file_df[\"lemmatized\"].dropna().apply(sc)\n",
    "file_df[\"weight\"] = file_df[\"freq\"]*file_df[\"sentiment_score\"]"
   ]
  },
  {
   "cell_type": "code",
   "execution_count": null,
   "metadata": {},
   "outputs": [],
   "source": [
    "file_df.head(25)"
   ]
  },
  {
   "cell_type": "markdown",
   "metadata": {},
   "source": [
    "## Load Data to DB"
   ]
  },
  {
   "cell_type": "code",
   "execution_count": null,
   "metadata": {},
   "outputs": [],
   "source": [
    "file_df.dropna().head(10)"
   ]
  },
  {
   "cell_type": "code",
   "execution_count": null,
   "metadata": {},
   "outputs": [],
   "source": [
    "#update DB\n",
    "updates = file_df.dropna()\n",
    "for i in range(len(updates)):\n",
    "    row = updates.iloc[i]\n",
    "    out =[f'{key} = \"{row[key]}\"' for key in row.keys()[1:]]\n",
    "    set_ = \", \".join(out)\n",
    "    querry = f\"\"\"UPDATE content\n",
    "                 SET {set_}\n",
    "                 WHERE pos_in_conv = {row['pos_in_conv']}\n",
    "                 AND origin = \"{file}\"\n",
    "             \"\"\"\n",
    "    c.execute(querry)\n",
    "conn.commit()\n",
    "print(\"Inserted frequencydict in content\")"
   ]
  },
  {
   "cell_type": "code",
   "execution_count": null,
   "metadata": {},
   "outputs": [],
   "source": [
    "file"
   ]
  },
  {
   "cell_type": "markdown",
   "metadata": {},
   "source": [
    "# Summarizing the Text"
   ]
  },
  {
   "cell_type": "markdown",
   "metadata": {},
   "source": [
    "To Summarize the Text an external API called Aylien is used."
   ]
  },
  {
   "cell_type": "code",
   "execution_count": null,
   "metadata": {},
   "outputs": [],
   "source": [
    "from aylienapiclient import textapi\n",
    "from Private.private import aylien_app_id,aylien_API_KEY\n",
    "from Scripts.config import cfg_summary_len ,cfg_summary_lang"
   ]
  },
  {
   "cell_type": "code",
   "execution_count": null,
   "metadata": {},
   "outputs": [],
   "source": [
    "aylien = textapi.Client(aylien_app_id,aylien_API_KEY)"
   ]
  },
  {
   "cell_type": "code",
   "execution_count": null,
   "metadata": {
    "scrolled": true
   },
   "outputs": [],
   "source": [
    "summary = aylien.Summarize({\"title\": file, \n",
    "                  \"text\": text,\n",
    "                 \"sentences_number\": cfg_summary_len, \n",
    "                 \"language\": cfg_summary_lang })"
   ]
  },
  {
   "cell_type": "code",
   "execution_count": null,
   "metadata": {},
   "outputs": [],
   "source": [
    "summary_text = \" \".join(summary[\"sentences\"])"
   ]
  },
  {
   "cell_type": "code",
   "execution_count": null,
   "metadata": {},
   "outputs": [],
   "source": [
    "c.execute(f\"\"\"UPDATE conversations\n",
    "            SET summary = '{summary_text}'\n",
    "            WHERE filename = '{file}'\"\"\")\n",
    "conn.commit()"
   ]
  },
  {
   "cell_type": "markdown",
   "metadata": {},
   "source": [
    "# Make ready for export"
   ]
  },
  {
   "cell_type": "code",
   "execution_count": null,
   "metadata": {},
   "outputs": [],
   "source": [
    "conn.close()"
   ]
  },
  {
   "cell_type": "code",
   "execution_count": null,
   "metadata": {},
   "outputs": [],
   "source": []
  }
 ],
 "metadata": {
  "kernelspec": {
   "display_name": "Python 3",
   "language": "python",
   "name": "python3"
  },
  "language_info": {
   "codemirror_mode": {
    "name": "ipython",
    "version": 3
   },
   "file_extension": ".py",
   "mimetype": "text/x-python",
   "name": "python",
   "nbconvert_exporter": "python",
   "pygments_lexer": "ipython3",
   "version": "3.7.3"
  },
  "toc": {
   "base_numbering": 1,
   "nav_menu": {},
   "number_sections": true,
   "sideBar": true,
   "skip_h1_title": false,
   "title_cell": "Table of Contents",
   "title_sidebar": "Contents",
   "toc_cell": false,
   "toc_position": {},
   "toc_section_display": true,
   "toc_window_display": false
  }
 },
 "nbformat": 4,
 "nbformat_minor": 2
}
