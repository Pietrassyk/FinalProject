{
 "cells": [
  {
   "cell_type": "markdown",
   "metadata": {},
   "source": [
    "# Imports"
   ]
  },
  {
   "cell_type": "code",
   "execution_count": 1,
   "metadata": {},
   "outputs": [],
   "source": [
    "#IMPORTS\n",
    "########\n",
    "import pandas as pd\n",
    "import requests\n",
    "\n",
    "import mysql.connector\n",
    "import tpclean.tpclean as tp\n",
    "\n",
    "from sqlalchemy import create_engine\n",
    "\n",
    "#custom imports\n",
    "from Scripts.config import role, bucket_name, prefix, bucket_path, sub_path\n",
    "\n",
    "#establish connection\n",
    "from Scripts.config import host, db\n",
    "from Private.private import user , password"
   ]
  },
  {
   "cell_type": "markdown",
   "metadata": {},
   "source": [
    "# Load Data"
   ]
  },
  {
   "cell_type": "markdown",
   "metadata": {},
   "source": [
    "## establish connection"
   ]
  },
  {
   "cell_type": "code",
   "execution_count": 2,
   "metadata": {},
   "outputs": [
    {
     "name": "stdout",
     "output_type": "stream",
     "text": [
      "Connecting to mysql\n",
      "successfully imported module\n",
      "Connection to mysql successfull. with curser MySQLCursor: (Nothing executed yet)\n"
     ]
    }
   ],
   "source": [
    "#load credentials\n",
    "conn_kwargs = {\"host\":host, \n",
    "               \"user\":user, \n",
    "               \"password\":password}\n",
    "conn = tp.sql_connect(db,db_type=\"mysql\",**conn_kwargs)\n",
    "#conn = mysql.connector.Connect(database = db, **conn_kwargs)\n",
    "c = conn.cursor()\n",
    "\n",
    "#connecting via sqlalchemy because pandas needs an engine to store data in an mysql DB\n",
    "engine = create_engine(f'mysql+pymysql://{user}:{password}@{conn_kwargs[\"host\"]}:3306/{db}')"
   ]
  },
  {
   "cell_type": "markdown",
   "metadata": {},
   "source": [
    "## SQL Querries"
   ]
  },
  {
   "cell_type": "code",
   "execution_count": 3,
   "metadata": {},
   "outputs": [
    {
     "data": {
      "text/html": [
       "<div>\n",
       "<style scoped>\n",
       "    .dataframe tbody tr th:only-of-type {\n",
       "        vertical-align: middle;\n",
       "    }\n",
       "\n",
       "    .dataframe tbody tr th {\n",
       "        vertical-align: top;\n",
       "    }\n",
       "\n",
       "    .dataframe thead th {\n",
       "        text-align: right;\n",
       "    }\n",
       "</style>\n",
       "<table border=\"1\" class=\"dataframe\">\n",
       "  <thead>\n",
       "    <tr style=\"text-align: right;\">\n",
       "      <th></th>\n",
       "      <th>Tables_in_debater</th>\n",
       "    </tr>\n",
       "  </thead>\n",
       "  <tbody>\n",
       "    <tr>\n",
       "      <th>0</th>\n",
       "      <td>content</td>\n",
       "    </tr>\n",
       "    <tr>\n",
       "      <th>1</th>\n",
       "      <td>conversations</td>\n",
       "    </tr>\n",
       "    <tr>\n",
       "      <th>2</th>\n",
       "      <td>test</td>\n",
       "    </tr>\n",
       "  </tbody>\n",
       "</table>\n",
       "</div>"
      ],
      "text/plain": [
       "  Tables_in_debater\n",
       "0           content\n",
       "1     conversations\n",
       "2              test"
      ]
     },
     "execution_count": 3,
     "metadata": {},
     "output_type": "execute_result"
    }
   ],
   "source": [
    "tp.sql(\"\"\"show tables\"\"\")"
   ]
  },
  {
   "cell_type": "markdown",
   "metadata": {},
   "source": [
    "words_df = tp.sql(\"\"\"SELECT origin\n",
    "FROM content\n",
    "GROUP BY origin\n",
    "HAVING COUNT(freq) = 0\"\"\")"
   ]
  },
  {
   "cell_type": "code",
   "execution_count": 7,
   "metadata": {},
   "outputs": [],
   "source": [
    "words_df = tp.sql(\"\"\"SELECT origin\n",
    "FROM content\n",
    "GROUP BY origin\"\"\")"
   ]
  },
  {
   "cell_type": "code",
   "execution_count": 8,
   "metadata": {},
   "outputs": [
    {
     "data": {
      "text/html": [
       "<div>\n",
       "<style scoped>\n",
       "    .dataframe tbody tr th:only-of-type {\n",
       "        vertical-align: middle;\n",
       "    }\n",
       "\n",
       "    .dataframe tbody tr th {\n",
       "        vertical-align: top;\n",
       "    }\n",
       "\n",
       "    .dataframe thead th {\n",
       "        text-align: right;\n",
       "    }\n",
       "</style>\n",
       "<table border=\"1\" class=\"dataframe\">\n",
       "  <thead>\n",
       "    <tr style=\"text-align: right;\">\n",
       "      <th></th>\n",
       "      <th>origin</th>\n",
       "    </tr>\n",
       "  </thead>\n",
       "  <tbody>\n",
       "    <tr>\n",
       "      <th>0</th>\n",
       "      <td>AM_101_affirmativeaction_pro.wav</td>\n",
       "    </tr>\n",
       "    <tr>\n",
       "      <th>1</th>\n",
       "      <td>DJ_1_ban-video-games_pro.wav</td>\n",
       "    </tr>\n",
       "    <tr>\n",
       "      <th>2</th>\n",
       "      <td>DJ_644_year-round-schooling_pro.wav</td>\n",
       "    </tr>\n",
       "    <tr>\n",
       "      <th>3</th>\n",
       "      <td>DJ_681_ip-rights_pro.wav</td>\n",
       "    </tr>\n",
       "    <tr>\n",
       "      <th>4</th>\n",
       "      <td>DJ_841_blasphemy_pro.wav</td>\n",
       "    </tr>\n",
       "    <tr>\n",
       "      <th>5</th>\n",
       "      <td>EH_1_ban-video-games_pro.wav</td>\n",
       "    </tr>\n",
       "  </tbody>\n",
       "</table>\n",
       "</div>"
      ],
      "text/plain": [
       "                                origin\n",
       "0     AM_101_affirmativeaction_pro.wav\n",
       "1         DJ_1_ban-video-games_pro.wav\n",
       "2  DJ_644_year-round-schooling_pro.wav\n",
       "3             DJ_681_ip-rights_pro.wav\n",
       "4             DJ_841_blasphemy_pro.wav\n",
       "5         EH_1_ban-video-games_pro.wav"
      ]
     },
     "execution_count": 8,
     "metadata": {},
     "output_type": "execute_result"
    }
   ],
   "source": [
    "words_df"
   ]
  },
  {
   "cell_type": "code",
   "execution_count": 9,
   "metadata": {},
   "outputs": [],
   "source": [
    "job_list = list(words_df.iloc[:,0])\n",
    "file = job_list[4]"
   ]
  },
  {
   "cell_type": "code",
   "execution_count": 10,
   "metadata": {},
   "outputs": [
    {
     "data": {
      "text/plain": [
       "'DJ_841_blasphemy_pro.wav'"
      ]
     },
     "execution_count": 10,
     "metadata": {},
     "output_type": "execute_result"
    }
   ],
   "source": [
    "file"
   ]
  },
  {
   "cell_type": "code",
   "execution_count": 11,
   "metadata": {},
   "outputs": [],
   "source": [
    "text_df = tp.sql(f\"\"\"SELECT full_text FROM conversations WHERE filename = \"{file}\" \"\"\")\n",
    "text = text_df[\"full_text\"][0]"
   ]
  },
  {
   "cell_type": "code",
   "execution_count": 12,
   "metadata": {},
   "outputs": [
    {
     "data": {
      "text/plain": [
       "\"we should criminalize Blast me because it's a kidney hate speech and because it leads to public disorder and resentment between religious groups. So let's start by talking about what, exactly, we're going to criminalize, because we're not gonna criminalize every single kind of blast. So if someone is just like an atheist and they say, I don't believe in God, possibly in some kind of public setting those aren't the people that we're going to prosecute. And that's not the kind of things that were worrying about what we're talking about, our people who are outwardly insulting people who may say things like God is evil, God is hateful or people who desecrate some kind of holy objects through people who will like, for example, burn a Koran or trying to, like, burn like a like a crumb click or burn some kind of cross things like that, things that I think truly embody a kind of hatred for religion on God. Let's start by talking about why these things were necessary first because it's a kidney hate speech. So it's generally accepted that speech rights are obviously important, but nevertheless not absolute on maybe not in America, but most parts of the world. Hate speech is banned, and the reason it's band is because it's essentially a way to, like verbalize violence against the window. In a lot of ways, it's similar to bullying and that the point of it is not so much to like, rationally exchange ideas. The point of it is to hurt somebody, and I think when the point of your speeches to hurt someone very deeply, that kind of speech is obviously not something that we just have to protect, and it can be bad. So let's talk about why blasphemy meets this kind of a qualification. I think it's quite obvious that it does, because no matter what your opinions on religion are, it's quite clear that there's billions of people around the world who believe deeply in their religion, whatever it may happen to be. And that's incredibly important because when you do something that could be deeply insulting to someone like Burn a Koran in a lot of ways your attack, the core of a lot of people's identity, and that is very, very hurtful. It's in a lot of ways, like you're punching someone in the face. It's very hurtful for them, and it's something that we don't have to tolerate. Um, but the next thing that I want to talk about is about the public disorder that can happen for these kinds of things. So in addition to a lot of places, you're able to bend hate speech because it's akin to tryingto like harm someone emotionally. Um, one of the other kinds of speech that we don't allow is incitement, So I think that when you do a lot of when you do a lot of them or extreme blasphemous things, one of the reasons you're often trying to do this is because you're trying to express your hatred and you're trying to incite a reaction. So, with a pastor in Gainesville, Florida wants to burn a Koran on television and then put the video on YouTube. It's in a lot of ways, the same thing, like when Isis decides to behead people and then put the video on YouTube, they're trying to get a reaction or trying to incite a response on. They're trying to incite a lot of circumstances, some kind of violent response, So these things are obviously very bad, and these things are bad because they put people's lives at risk. When you do something that you know is going to offend people so dearly that these people might riot, these people might like do something like very, very bad. Um, that's a good enough reason to say no, you can't do it because in a lot of ways you have moral culpability for the harms and the damage Is there going to happen because it is incitement? You don't have to directly say, I want to see you like like rip this building down or burn this building down for it to be incitement. If you create the environment in which you're very likely going to see this consequence, God is more than sufficient. So for those reasons, we should criminalize blasphemy.\""
      ]
     },
     "execution_count": 12,
     "metadata": {},
     "output_type": "execute_result"
    }
   ],
   "source": [
    "text"
   ]
  },
  {
   "cell_type": "markdown",
   "metadata": {},
   "source": [
    "# Feature Engineering"
   ]
  },
  {
   "cell_type": "code",
   "execution_count": 13,
   "metadata": {},
   "outputs": [],
   "source": [
    "import nltk\n",
    "import numpy as np\n",
    "import matplotlib.pyplot as plt\n",
    "from nltk import FreqDist\n",
    "from nltk.corpus import stopwords"
   ]
  },
  {
   "cell_type": "code",
   "execution_count": 14,
   "metadata": {},
   "outputs": [],
   "source": [
    "file_df = tp.sql(f\"\"\"SELECT pos_in_conv,\n",
    "                    LOWER(content) as content\n",
    "                    FROM content\n",
    "                    WHERE type = \"pronunciation\" and origin = \"{file}\" \"\"\")"
   ]
  },
  {
   "cell_type": "code",
   "execution_count": 15,
   "metadata": {},
   "outputs": [],
   "source": [
    "tokens = np.asarray(file_df.iloc[:,1]).reshape(len(file_df),)"
   ]
  },
  {
   "cell_type": "code",
   "execution_count": 16,
   "metadata": {},
   "outputs": [],
   "source": [
    "from nltk.tokenize import sent_tokenize\n",
    "sentences = sent_tokenize(text) "
   ]
  },
  {
   "cell_type": "markdown",
   "metadata": {},
   "source": [
    "## Remove Stopwords and Lemmatize"
   ]
  },
  {
   "cell_type": "code",
   "execution_count": 17,
   "metadata": {},
   "outputs": [],
   "source": [
    "from nltk.stem.wordnet import WordNetLemmatizer\n",
    "\n",
    "stopword_list = stopwords.words(\"english\")\n",
    "lemmatizer = WordNetLemmatizer()"
   ]
  },
  {
   "cell_type": "code",
   "execution_count": 18,
   "metadata": {},
   "outputs": [],
   "source": [
    "#define function for stopping and lemmatizing\n",
    "stoplem = lambda x: np.NaN if x in stopword_list else lemmatizer.lemmatize(x)\n",
    "#remove stoppwords and lemmatize ramaining words\n",
    "file_df[\"lemmatized\"] = file_df[\"content\"].apply(stoplem)"
   ]
  },
  {
   "cell_type": "code",
   "execution_count": 19,
   "metadata": {},
   "outputs": [],
   "source": [
    "#create freqency dict\n",
    "fDist_lemm = FreqDist(file_df[\"lemmatized\"].dropna(),)"
   ]
  },
  {
   "cell_type": "code",
   "execution_count": 20,
   "metadata": {},
   "outputs": [],
   "source": [
    "#append frequencies to lemmatized words\n",
    "freqs = pd.DataFrame.from_dict(fDist_lemm,orient = \"index\", columns = [\"freq\"])\n",
    "file_df = pd.merge(file_df,freqs, how = \"left\", left_on = \"lemmatized\", right_index = True)"
   ]
  },
  {
   "cell_type": "markdown",
   "metadata": {},
   "source": [
    "## Vizualisation\n",
    "\n",
    "+ Upload Freqdists to new SQL Table\n",
    "+ TODO : Make Wordclouds in Tableau"
   ]
  },
  {
   "cell_type": "code",
   "execution_count": 21,
   "metadata": {},
   "outputs": [],
   "source": [
    "from wordcloud import WordCloud"
   ]
  },
  {
   "cell_type": "code",
   "execution_count": 22,
   "metadata": {},
   "outputs": [],
   "source": [
    "def generate_wordcloud(text, **kwargs): # optionally add: stopwords=STOPWORDS and change the arg below\n",
    "    wordcloud = WordCloud(font_path='/Library/Fonts/Verdana.ttf',\n",
    "                          random_state = 42,\n",
    "                          background_color = \"white\",\n",
    "                          width=800,\n",
    "                          height=400,\n",
    "                          scale = 1,\n",
    "                          max_words = 15,\n",
    "                          relative_scaling = 1.0, # set or space-separated string\n",
    "                          **kwargs\n",
    "                          ).generate_from_frequencies(text)\n",
    "    plt.imshow(wordcloud)\n",
    "    plt.axis(\"off\")\n",
    "    plt.show()"
   ]
  },
  {
   "cell_type": "code",
   "execution_count": 25,
   "metadata": {},
   "outputs": [
    {
     "data": {
      "text/html": [
       "<div>\n",
       "<style scoped>\n",
       "    .dataframe tbody tr th:only-of-type {\n",
       "        vertical-align: middle;\n",
       "    }\n",
       "\n",
       "    .dataframe tbody tr th {\n",
       "        vertical-align: top;\n",
       "    }\n",
       "\n",
       "    .dataframe thead th {\n",
       "        text-align: right;\n",
       "    }\n",
       "</style>\n",
       "<table border=\"1\" class=\"dataframe\">\n",
       "  <thead>\n",
       "    <tr style=\"text-align: right;\">\n",
       "      <th></th>\n",
       "      <th>pos_in_conv</th>\n",
       "      <th>content</th>\n",
       "      <th>lemmatized</th>\n",
       "      <th>freq</th>\n",
       "    </tr>\n",
       "  </thead>\n",
       "  <tbody>\n",
       "    <tr>\n",
       "      <th>0</th>\n",
       "      <td>0</td>\n",
       "      <td>we</td>\n",
       "      <td>NaN</td>\n",
       "      <td>NaN</td>\n",
       "    </tr>\n",
       "    <tr>\n",
       "      <th>1</th>\n",
       "      <td>1</td>\n",
       "      <td>should</td>\n",
       "      <td>NaN</td>\n",
       "      <td>NaN</td>\n",
       "    </tr>\n",
       "    <tr>\n",
       "      <th>2</th>\n",
       "      <td>2</td>\n",
       "      <td>mass</td>\n",
       "      <td>mass</td>\n",
       "      <td>1.0</td>\n",
       "    </tr>\n",
       "    <tr>\n",
       "      <th>3</th>\n",
       "      <td>3</td>\n",
       "      <td>murderer</td>\n",
       "      <td>murderer</td>\n",
       "      <td>1.0</td>\n",
       "    </tr>\n",
       "    <tr>\n",
       "      <th>4</th>\n",
       "      <td>4</td>\n",
       "      <td>me</td>\n",
       "      <td>NaN</td>\n",
       "      <td>NaN</td>\n",
       "    </tr>\n",
       "    <tr>\n",
       "      <th>5</th>\n",
       "      <td>5</td>\n",
       "      <td>newton</td>\n",
       "      <td>newton</td>\n",
       "      <td>1.0</td>\n",
       "    </tr>\n",
       "    <tr>\n",
       "      <th>6</th>\n",
       "      <td>6</td>\n",
       "      <td>it's</td>\n",
       "      <td>NaN</td>\n",
       "      <td>NaN</td>\n",
       "    </tr>\n",
       "    <tr>\n",
       "      <th>7</th>\n",
       "      <td>7</td>\n",
       "      <td>caught</td>\n",
       "      <td>caught</td>\n",
       "      <td>1.0</td>\n",
       "    </tr>\n",
       "    <tr>\n",
       "      <th>8</th>\n",
       "      <td>8</td>\n",
       "      <td>kidney</td>\n",
       "      <td>kidney</td>\n",
       "      <td>1.0</td>\n",
       "    </tr>\n",
       "    <tr>\n",
       "      <th>9</th>\n",
       "      <td>9</td>\n",
       "      <td>hate</td>\n",
       "      <td>hate</td>\n",
       "      <td>3.0</td>\n",
       "    </tr>\n",
       "    <tr>\n",
       "      <th>10</th>\n",
       "      <td>10</td>\n",
       "      <td>speech</td>\n",
       "      <td>speech</td>\n",
       "      <td>6.0</td>\n",
       "    </tr>\n",
       "    <tr>\n",
       "      <th>11</th>\n",
       "      <td>11</td>\n",
       "      <td>discovered</td>\n",
       "      <td>discovered</td>\n",
       "      <td>1.0</td>\n",
       "    </tr>\n",
       "    <tr>\n",
       "      <th>12</th>\n",
       "      <td>12</td>\n",
       "      <td>because</td>\n",
       "      <td>NaN</td>\n",
       "      <td>NaN</td>\n",
       "    </tr>\n",
       "    <tr>\n",
       "      <th>13</th>\n",
       "      <td>13</td>\n",
       "      <td>it</td>\n",
       "      <td>NaN</td>\n",
       "      <td>NaN</td>\n",
       "    </tr>\n",
       "    <tr>\n",
       "      <th>14</th>\n",
       "      <td>14</td>\n",
       "      <td>leads</td>\n",
       "      <td>lead</td>\n",
       "      <td>1.0</td>\n",
       "    </tr>\n",
       "    <tr>\n",
       "      <th>15</th>\n",
       "      <td>15</td>\n",
       "      <td>planned</td>\n",
       "      <td>planned</td>\n",
       "      <td>1.0</td>\n",
       "    </tr>\n",
       "    <tr>\n",
       "      <th>16</th>\n",
       "      <td>16</td>\n",
       "      <td>public</td>\n",
       "      <td>public</td>\n",
       "      <td>1.0</td>\n",
       "    </tr>\n",
       "    <tr>\n",
       "      <th>17</th>\n",
       "      <td>17</td>\n",
       "      <td>entire</td>\n",
       "      <td>entire</td>\n",
       "      <td>1.0</td>\n",
       "    </tr>\n",
       "    <tr>\n",
       "      <th>18</th>\n",
       "      <td>18</td>\n",
       "      <td>murder</td>\n",
       "      <td>murder</td>\n",
       "      <td>1.0</td>\n",
       "    </tr>\n",
       "    <tr>\n",
       "      <th>19</th>\n",
       "      <td>19</td>\n",
       "      <td>spree</td>\n",
       "      <td>spree</td>\n",
       "      <td>1.0</td>\n",
       "    </tr>\n",
       "    <tr>\n",
       "      <th>20</th>\n",
       "      <td>20</td>\n",
       "      <td>between</td>\n",
       "      <td>NaN</td>\n",
       "      <td>NaN</td>\n",
       "    </tr>\n",
       "    <tr>\n",
       "      <th>21</th>\n",
       "      <td>21</td>\n",
       "      <td>religious</td>\n",
       "      <td>religious</td>\n",
       "      <td>1.0</td>\n",
       "    </tr>\n",
       "    <tr>\n",
       "      <th>22</th>\n",
       "      <td>22</td>\n",
       "      <td>game</td>\n",
       "      <td>game</td>\n",
       "      <td>16.0</td>\n",
       "    </tr>\n",
       "    <tr>\n",
       "      <th>23</th>\n",
       "      <td>24</td>\n",
       "      <td>kindergarten</td>\n",
       "      <td>kindergarten</td>\n",
       "      <td>1.0</td>\n",
       "    </tr>\n",
       "    <tr>\n",
       "      <th>24</th>\n",
       "      <td>25</td>\n",
       "      <td>killers</td>\n",
       "      <td>killer</td>\n",
       "      <td>1.0</td>\n",
       "    </tr>\n",
       "    <tr>\n",
       "      <th>25</th>\n",
       "      <td>26</td>\n",
       "      <td>start</td>\n",
       "      <td>start</td>\n",
       "      <td>2.0</td>\n",
       "    </tr>\n",
       "    <tr>\n",
       "      <th>26</th>\n",
       "      <td>27</td>\n",
       "      <td>by</td>\n",
       "      <td>NaN</td>\n",
       "      <td>NaN</td>\n",
       "    </tr>\n",
       "    <tr>\n",
       "      <th>27</th>\n",
       "      <td>28</td>\n",
       "      <td>think</td>\n",
       "      <td>think</td>\n",
       "      <td>5.0</td>\n",
       "    </tr>\n",
       "    <tr>\n",
       "      <th>28</th>\n",
       "      <td>29</td>\n",
       "      <td>about</td>\n",
       "      <td>NaN</td>\n",
       "      <td>NaN</td>\n",
       "    </tr>\n",
       "    <tr>\n",
       "      <th>29</th>\n",
       "      <td>30</td>\n",
       "      <td>what</td>\n",
       "      <td>NaN</td>\n",
       "      <td>NaN</td>\n",
       "    </tr>\n",
       "    <tr>\n",
       "      <th>...</th>\n",
       "      <td>...</td>\n",
       "      <td>...</td>\n",
       "      <td>...</td>\n",
       "      <td>...</td>\n",
       "    </tr>\n",
       "    <tr>\n",
       "      <th>700</th>\n",
       "      <td>769</td>\n",
       "      <td>be</td>\n",
       "      <td>NaN</td>\n",
       "      <td>NaN</td>\n",
       "    </tr>\n",
       "    <tr>\n",
       "      <th>701</th>\n",
       "      <td>770</td>\n",
       "      <td>incitement</td>\n",
       "      <td>incitement</td>\n",
       "      <td>2.0</td>\n",
       "    </tr>\n",
       "    <tr>\n",
       "      <th>702</th>\n",
       "      <td>772</td>\n",
       "      <td>if</td>\n",
       "      <td>NaN</td>\n",
       "      <td>NaN</td>\n",
       "    </tr>\n",
       "    <tr>\n",
       "      <th>703</th>\n",
       "      <td>773</td>\n",
       "      <td>you</td>\n",
       "      <td>NaN</td>\n",
       "      <td>NaN</td>\n",
       "    </tr>\n",
       "    <tr>\n",
       "      <th>704</th>\n",
       "      <td>774</td>\n",
       "      <td>create</td>\n",
       "      <td>create</td>\n",
       "      <td>1.0</td>\n",
       "    </tr>\n",
       "    <tr>\n",
       "      <th>705</th>\n",
       "      <td>775</td>\n",
       "      <td>negative</td>\n",
       "      <td>negative</td>\n",
       "      <td>1.0</td>\n",
       "    </tr>\n",
       "    <tr>\n",
       "      <th>706</th>\n",
       "      <td>776</td>\n",
       "      <td>environment</td>\n",
       "      <td>environment</td>\n",
       "      <td>1.0</td>\n",
       "    </tr>\n",
       "    <tr>\n",
       "      <th>707</th>\n",
       "      <td>777</td>\n",
       "      <td>in</td>\n",
       "      <td>NaN</td>\n",
       "      <td>NaN</td>\n",
       "    </tr>\n",
       "    <tr>\n",
       "      <th>708</th>\n",
       "      <td>778</td>\n",
       "      <td>which</td>\n",
       "      <td>NaN</td>\n",
       "      <td>NaN</td>\n",
       "    </tr>\n",
       "    <tr>\n",
       "      <th>709</th>\n",
       "      <td>779</td>\n",
       "      <td>you're</td>\n",
       "      <td>NaN</td>\n",
       "      <td>NaN</td>\n",
       "    </tr>\n",
       "    <tr>\n",
       "      <th>710</th>\n",
       "      <td>780</td>\n",
       "      <td>fringe</td>\n",
       "      <td>fringe</td>\n",
       "      <td>1.0</td>\n",
       "    </tr>\n",
       "    <tr>\n",
       "      <th>711</th>\n",
       "      <td>781</td>\n",
       "      <td>likely</td>\n",
       "      <td>likely</td>\n",
       "      <td>5.0</td>\n",
       "    </tr>\n",
       "    <tr>\n",
       "      <th>712</th>\n",
       "      <td>782</td>\n",
       "      <td>going</td>\n",
       "      <td>going</td>\n",
       "      <td>4.0</td>\n",
       "    </tr>\n",
       "    <tr>\n",
       "      <th>713</th>\n",
       "      <td>783</td>\n",
       "      <td>to</td>\n",
       "      <td>NaN</td>\n",
       "      <td>NaN</td>\n",
       "    </tr>\n",
       "    <tr>\n",
       "      <th>714</th>\n",
       "      <td>784</td>\n",
       "      <td>potentially</td>\n",
       "      <td>potentially</td>\n",
       "      <td>1.0</td>\n",
       "    </tr>\n",
       "    <tr>\n",
       "      <th>715</th>\n",
       "      <td>785</td>\n",
       "      <td>something</td>\n",
       "      <td>something</td>\n",
       "      <td>6.0</td>\n",
       "    </tr>\n",
       "    <tr>\n",
       "      <th>716</th>\n",
       "      <td>786</td>\n",
       "      <td>consequence</td>\n",
       "      <td>consequence</td>\n",
       "      <td>1.0</td>\n",
       "    </tr>\n",
       "    <tr>\n",
       "      <th>717</th>\n",
       "      <td>788</td>\n",
       "      <td>push</td>\n",
       "      <td>push</td>\n",
       "      <td>4.0</td>\n",
       "    </tr>\n",
       "    <tr>\n",
       "      <th>718</th>\n",
       "      <td>789</td>\n",
       "      <td>psychopaths</td>\n",
       "      <td>psychopath</td>\n",
       "      <td>1.0</td>\n",
       "    </tr>\n",
       "    <tr>\n",
       "      <th>719</th>\n",
       "      <td>790</td>\n",
       "      <td>more</td>\n",
       "      <td>NaN</td>\n",
       "      <td>NaN</td>\n",
       "    </tr>\n",
       "    <tr>\n",
       "      <th>720</th>\n",
       "      <td>791</td>\n",
       "      <td>than</td>\n",
       "      <td>NaN</td>\n",
       "      <td>NaN</td>\n",
       "    </tr>\n",
       "    <tr>\n",
       "      <th>721</th>\n",
       "      <td>792</td>\n",
       "      <td>edge</td>\n",
       "      <td>edge</td>\n",
       "      <td>1.0</td>\n",
       "    </tr>\n",
       "    <tr>\n",
       "      <th>722</th>\n",
       "      <td>794</td>\n",
       "      <td>take</td>\n",
       "      <td>take</td>\n",
       "      <td>5.0</td>\n",
       "    </tr>\n",
       "    <tr>\n",
       "      <th>723</th>\n",
       "      <td>795</td>\n",
       "      <td>somebody</td>\n",
       "      <td>somebody</td>\n",
       "      <td>2.0</td>\n",
       "    </tr>\n",
       "    <tr>\n",
       "      <th>724</th>\n",
       "      <td>796</td>\n",
       "      <td>those</td>\n",
       "      <td>NaN</td>\n",
       "      <td>NaN</td>\n",
       "    </tr>\n",
       "    <tr>\n",
       "      <th>725</th>\n",
       "      <td>797</td>\n",
       "      <td>otherwise</td>\n",
       "      <td>otherwise</td>\n",
       "      <td>1.0</td>\n",
       "    </tr>\n",
       "    <tr>\n",
       "      <th>726</th>\n",
       "      <td>799</td>\n",
       "      <td>we</td>\n",
       "      <td>NaN</td>\n",
       "      <td>NaN</td>\n",
       "    </tr>\n",
       "    <tr>\n",
       "      <th>727</th>\n",
       "      <td>800</td>\n",
       "      <td>should</td>\n",
       "      <td>NaN</td>\n",
       "      <td>NaN</td>\n",
       "    </tr>\n",
       "    <tr>\n",
       "      <th>728</th>\n",
       "      <td>801</td>\n",
       "      <td>somewhat</td>\n",
       "      <td>somewhat</td>\n",
       "      <td>1.0</td>\n",
       "    </tr>\n",
       "    <tr>\n",
       "      <th>729</th>\n",
       "      <td>802</td>\n",
       "      <td>violent</td>\n",
       "      <td>violent</td>\n",
       "      <td>8.0</td>\n",
       "    </tr>\n",
       "  </tbody>\n",
       "</table>\n",
       "<p>730 rows × 4 columns</p>\n",
       "</div>"
      ],
      "text/plain": [
       "     pos_in_conv       content    lemmatized  freq\n",
       "0              0            we           NaN   NaN\n",
       "1              1        should           NaN   NaN\n",
       "2              2          mass          mass   1.0\n",
       "3              3      murderer      murderer   1.0\n",
       "4              4            me           NaN   NaN\n",
       "5              5        newton        newton   1.0\n",
       "6              6          it's           NaN   NaN\n",
       "7              7        caught        caught   1.0\n",
       "8              8        kidney        kidney   1.0\n",
       "9              9          hate          hate   3.0\n",
       "10            10        speech        speech   6.0\n",
       "11            11    discovered    discovered   1.0\n",
       "12            12       because           NaN   NaN\n",
       "13            13            it           NaN   NaN\n",
       "14            14         leads          lead   1.0\n",
       "15            15       planned       planned   1.0\n",
       "16            16        public        public   1.0\n",
       "17            17        entire        entire   1.0\n",
       "18            18        murder        murder   1.0\n",
       "19            19         spree         spree   1.0\n",
       "20            20       between           NaN   NaN\n",
       "21            21     religious     religious   1.0\n",
       "22            22          game          game  16.0\n",
       "23            24  kindergarten  kindergarten   1.0\n",
       "24            25       killers        killer   1.0\n",
       "25            26         start         start   2.0\n",
       "26            27            by           NaN   NaN\n",
       "27            28         think         think   5.0\n",
       "28            29         about           NaN   NaN\n",
       "29            30          what           NaN   NaN\n",
       "..           ...           ...           ...   ...\n",
       "700          769            be           NaN   NaN\n",
       "701          770    incitement    incitement   2.0\n",
       "702          772            if           NaN   NaN\n",
       "703          773           you           NaN   NaN\n",
       "704          774        create        create   1.0\n",
       "705          775      negative      negative   1.0\n",
       "706          776   environment   environment   1.0\n",
       "707          777            in           NaN   NaN\n",
       "708          778         which           NaN   NaN\n",
       "709          779        you're           NaN   NaN\n",
       "710          780        fringe        fringe   1.0\n",
       "711          781        likely        likely   5.0\n",
       "712          782         going         going   4.0\n",
       "713          783            to           NaN   NaN\n",
       "714          784   potentially   potentially   1.0\n",
       "715          785     something     something   6.0\n",
       "716          786   consequence   consequence   1.0\n",
       "717          788          push          push   4.0\n",
       "718          789   psychopaths    psychopath   1.0\n",
       "719          790          more           NaN   NaN\n",
       "720          791          than           NaN   NaN\n",
       "721          792          edge          edge   1.0\n",
       "722          794          take          take   5.0\n",
       "723          795      somebody      somebody   2.0\n",
       "724          796         those           NaN   NaN\n",
       "725          797     otherwise     otherwise   1.0\n",
       "726          799            we           NaN   NaN\n",
       "727          800        should           NaN   NaN\n",
       "728          801      somewhat      somewhat   1.0\n",
       "729          802       violent       violent   8.0\n",
       "\n",
       "[730 rows x 4 columns]"
      ]
     },
     "execution_count": 25,
     "metadata": {},
     "output_type": "execute_result"
    }
   ],
   "source": [
    "file_df"
   ]
  },
  {
   "cell_type": "code",
   "execution_count": null,
   "metadata": {},
   "outputs": [],
   "source": [
    "generate_wordcloud(fDist_lemm)"
   ]
  },
  {
   "cell_type": "code",
   "execution_count": 23,
   "metadata": {
    "scrolled": true
   },
   "outputs": [
    {
     "data": {
      "image/png": "[encoded data removed]",
      "text/plain": [
       "<Figure size 432x288 with 1 Axes>"
      ]
     },
     "metadata": {
      "needs_background": "light"
     },
     "output_type": "display_data"
    }
   ],
   "source": [
    "#lemmatized wordlcloud\n",
    "generate_wordcloud(fDist_lemm)"
   ]
  },
  {
   "cell_type": "markdown",
   "metadata": {},
   "source": [
    "## Bigrams"
   ]
  },
  {
   "cell_type": "code",
   "execution_count": null,
   "metadata": {},
   "outputs": [],
   "source": [
    "file_df.head()"
   ]
  },
  {
   "cell_type": "code",
   "execution_count": null,
   "metadata": {},
   "outputs": [],
   "source": [
    "from nltk.collocations import BigramCollocationFinder\n",
    "from nltk.metrics import BigramAssocMeasures"
   ]
  },
  {
   "cell_type": "code",
   "execution_count": null,
   "metadata": {},
   "outputs": [],
   "source": [
    "finder = BigramCollocationFinder.from_words(file_df[\"lemmatized\"].dropna())"
   ]
  },
  {
   "cell_type": "code",
   "execution_count": null,
   "metadata": {},
   "outputs": [],
   "source": [
    "finder.nbest(BigramAssocMeasures.likelihood_ratio, 10)"
   ]
  },
  {
   "cell_type": "code",
   "execution_count": null,
   "metadata": {},
   "outputs": [],
   "source": [
    "bigrams_fd = finder.ngram_fd"
   ]
  },
  {
   "cell_type": "code",
   "execution_count": null,
   "metadata": {},
   "outputs": [],
   "source": [
    "def bigram_to_single_word(bigrams_fd):\n",
    "    out = dict(zip([x[0]+\" \"+x[1] for x in bigrams_fd.keys()],bigrams_fd.values()))\n",
    "    return out"
   ]
  },
  {
   "cell_type": "code",
   "execution_count": null,
   "metadata": {
    "scrolled": true
   },
   "outputs": [],
   "source": [
    "testfd = bigram_to_single_word(bigrams_fd)\n",
    "generate_wordcloud(testfd)"
   ]
  },
  {
   "cell_type": "markdown",
   "metadata": {},
   "source": [
    "# Sentiment analysis"
   ]
  },
  {
   "cell_type": "code",
   "execution_count": null,
   "metadata": {},
   "outputs": [],
   "source": [
    "from nltk.sentiment.vader import SentimentIntensityAnalyzer\n",
    "sia = SentimentIntensityAnalyzer()"
   ]
  },
  {
   "cell_type": "code",
   "execution_count": null,
   "metadata": {},
   "outputs": [],
   "source": [
    "sc = lambda x: sia.polarity_scores(x)[\"compound\"]\n",
    "file_df[\"sentiment_score\"] = file_df[\"lemmatized\"].dropna().apply(sc)\n",
    "file_df[\"weight\"] = file_df[\"freq\"]*file_df[\"sentiment_score\"]"
   ]
  },
  {
   "cell_type": "code",
   "execution_count": null,
   "metadata": {},
   "outputs": [],
   "source": [
    "file_df.head(25)"
   ]
  },
  {
   "cell_type": "markdown",
   "metadata": {},
   "source": [
    "## Load Data to DB"
   ]
  },
  {
   "cell_type": "code",
   "execution_count": null,
   "metadata": {},
   "outputs": [],
   "source": [
    "file_df.dropna().head(10)"
   ]
  },
  {
   "cell_type": "code",
   "execution_count": null,
   "metadata": {},
   "outputs": [],
   "source": [
    "#update DB\n",
    "updates = file_df.dropna()\n",
    "for i in range(len(updates)):\n",
    "    row = updates.iloc[i]\n",
    "    out =[f'{key} = \"{row[key]}\"' for key in row.keys()[1:]]\n",
    "    set_ = \", \".join(out)\n",
    "    querry = f\"\"\"UPDATE content\n",
    "                 SET {set_}\n",
    "                 WHERE pos_in_conv = {row['pos_in_conv']}\n",
    "                 AND origin = \"{file}\"\n",
    "             \"\"\"\n",
    "    c.execute(querry)\n",
    "conn.commit()\n",
    "print(\"Inserted frequencydict in content\")"
   ]
  },
  {
   "cell_type": "code",
   "execution_count": null,
   "metadata": {},
   "outputs": [],
   "source": [
    "file"
   ]
  },
  {
   "cell_type": "markdown",
   "metadata": {},
   "source": [
    "# Summarizing the Text"
   ]
  },
  {
   "cell_type": "markdown",
   "metadata": {},
   "source": [
    "To Summarize the Text an external API called Aylien is used."
   ]
  },
  {
   "cell_type": "code",
   "execution_count": null,
   "metadata": {},
   "outputs": [],
   "source": [
    "from aylienapiclient import textapi\n",
    "from Private.private import aylien_app_id,aylien_API_KEY\n",
    "from Scripts.config import cfg_summary_len ,cfg_summary_lang"
   ]
  },
  {
   "cell_type": "code",
   "execution_count": null,
   "metadata": {},
   "outputs": [],
   "source": [
    "aylien = textapi.Client(aylien_app_id,aylien_API_KEY)"
   ]
  },
  {
   "cell_type": "code",
   "execution_count": null,
   "metadata": {
    "scrolled": true
   },
   "outputs": [],
   "source": [
    "summary = aylien.Summarize({\"title\": file, \n",
    "                  \"text\": text,\n",
    "                 \"sentences_number\": cfg_summary_len, \n",
    "                 \"language\": cfg_summary_lang })"
   ]
  },
  {
   "cell_type": "code",
   "execution_count": null,
   "metadata": {},
   "outputs": [],
   "source": [
    "summary_text = \" \".join(summary[\"sentences\"])"
   ]
  },
  {
   "cell_type": "code",
   "execution_count": null,
   "metadata": {},
   "outputs": [],
   "source": [
    "c.execute(f\"\"\"UPDATE conversations\n",
    "            SET summary = '{summary_text}'\n",
    "            WHERE filename = '{file}'\"\"\")\n",
    "conn.commit()"
   ]
  },
  {
   "cell_type": "markdown",
   "metadata": {},
   "source": [
    "# Make ready for export"
   ]
  },
  {
   "cell_type": "code",
   "execution_count": 26,
   "metadata": {},
   "outputs": [],
   "source": [
    "conn.close()"
   ]
  },
  {
   "cell_type": "code",
   "execution_count": 30,
   "metadata": {},
   "outputs": [
    {
     "data": {
      "text/plain": [
       "[1, 2, 3, 4, 5]"
      ]
     },
     "execution_count": 30,
     "metadata": {},
     "output_type": "execute_result"
    }
   ],
   "source": [
    "[0,1,2,3,4,5,6][1:1+5]"
   ]
  },
  {
   "cell_type": "code",
   "execution_count": null,
   "metadata": {},
   "outputs": [],
   "source": []
  }
 ],
 "metadata": {
  "kernelspec": {
   "display_name": "Python 3",
   "language": "python",
   "name": "python3"
  },
  "language_info": {
   "codemirror_mode": {
    "name": "ipython",
    "version": 3
   },
   "file_extension": ".py",
   "mimetype": "text/x-python",
   "name": "python",
   "nbconvert_exporter": "python",
   "pygments_lexer": "ipython3",
   "version": "3.7.3"
  },
  "toc": {
   "base_numbering": 1,
   "nav_menu": {},
   "number_sections": true,
   "sideBar": true,
   "skip_h1_title": false,
   "title_cell": "Table of Contents",
   "title_sidebar": "Contents",
   "toc_cell": false,
   "toc_position": {},
   "toc_section_display": true,
   "toc_window_display": false
  }
 },
 "nbformat": 4,
 "nbformat_minor": 2
}
